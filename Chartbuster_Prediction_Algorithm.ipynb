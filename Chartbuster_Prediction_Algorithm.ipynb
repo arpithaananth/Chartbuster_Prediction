{
 "cells": [
  {
   "cell_type": "markdown",
   "metadata": {},
   "source": [
    "# Chartbuster Prediction\n",
    "To Predict Popularity of a song based on the Number of Views"
   ]
  },
  {
   "cell_type": "markdown",
   "metadata": {},
   "source": [
    "### Importing the required libraries"
   ]
  },
  {
   "cell_type": "code",
   "execution_count": 5,
   "metadata": {},
   "outputs": [],
   "source": [
    "import pandas as pd\n",
    "import numpy as np\n",
    "import matplotlib.pyplot as plt\n",
    "import seaborn as sns\n",
    "from scipy.stats import boxcox\n",
    "from sklearn.preprocessing import StandardScaler\n",
    "from sklearn.preprocessing import RobustScaler\n",
    "from sklearn.model_selection import train_test_split\n",
    "from sklearn.linear_model import LinearRegression\n",
    "from sklearn.metrics import r2_score, mean_squared_error\n",
    "from sklearn.linear_model import Ridge, Lasso\n",
    "from sklearn.metrics import accuracy_score\n",
    "from sklearn.ensemble import RandomForestRegressor\n",
    "from sklearn.ensemble import AdaBoostRegressor\n",
    "from sklearn.ensemble import BaggingRegressor\n",
    "from sklearn.linear_model import BayesianRidge, HuberRegressor"
   ]
  },
  {
   "cell_type": "code",
   "execution_count": 6,
   "metadata": {},
   "outputs": [
    {
     "data": {
      "text/html": [
       "<div>\n",
       "<style scoped>\n",
       "    .dataframe tbody tr th:only-of-type {\n",
       "        vertical-align: middle;\n",
       "    }\n",
       "\n",
       "    .dataframe tbody tr th {\n",
       "        vertical-align: top;\n",
       "    }\n",
       "\n",
       "    .dataframe thead th {\n",
       "        text-align: right;\n",
       "    }\n",
       "</style>\n",
       "<table border=\"1\" class=\"dataframe\">\n",
       "  <thead>\n",
       "    <tr style=\"text-align: right;\">\n",
       "      <th></th>\n",
       "      <th>Unique_ID</th>\n",
       "      <th>Name</th>\n",
       "      <th>Genre</th>\n",
       "      <th>Country</th>\n",
       "      <th>Song_Name</th>\n",
       "      <th>Timestamp</th>\n",
       "      <th>Views</th>\n",
       "      <th>Comments</th>\n",
       "      <th>Likes</th>\n",
       "      <th>Popularity</th>\n",
       "      <th>Followers</th>\n",
       "    </tr>\n",
       "  </thead>\n",
       "  <tbody>\n",
       "    <tr>\n",
       "      <th>0</th>\n",
       "      <td>413890</td>\n",
       "      <td>Hardstyle</td>\n",
       "      <td>danceedm</td>\n",
       "      <td>AU</td>\n",
       "      <td>N-Vitral presents BOMBSQUAD - Poison Spitter (...</td>\n",
       "      <td>2018-03-30 15:24:45.000000</td>\n",
       "      <td>14017</td>\n",
       "      <td>4</td>\n",
       "      <td>499</td>\n",
       "      <td>97</td>\n",
       "      <td>119563</td>\n",
       "    </tr>\n",
       "    <tr>\n",
       "      <th>1</th>\n",
       "      <td>249453</td>\n",
       "      <td>Dj Aladdin</td>\n",
       "      <td>danceedm</td>\n",
       "      <td>AU</td>\n",
       "      <td>Dj Aladdin - Old School Hip Hop Quick Mix</td>\n",
       "      <td>2016-06-20 05:58:52.000000</td>\n",
       "      <td>1918</td>\n",
       "      <td>17</td>\n",
       "      <td>49</td>\n",
       "      <td>17</td>\n",
       "      <td>2141</td>\n",
       "    </tr>\n",
       "    <tr>\n",
       "      <th>2</th>\n",
       "      <td>681116</td>\n",
       "      <td>Maxximize On Air</td>\n",
       "      <td>danceedm</td>\n",
       "      <td>AU</td>\n",
       "      <td>Maxximize On Air - Mixed by Blasterjaxx - Epis...</td>\n",
       "      <td>2015-05-08 17:45:59.000000</td>\n",
       "      <td>9668</td>\n",
       "      <td>11</td>\n",
       "      <td>312</td>\n",
       "      <td>91</td>\n",
       "      <td>22248</td>\n",
       "    </tr>\n",
       "    <tr>\n",
       "      <th>3</th>\n",
       "      <td>387253</td>\n",
       "      <td>GR6 EXPLODE</td>\n",
       "      <td>rbsoul</td>\n",
       "      <td>AU</td>\n",
       "      <td>MC Yago - Tenho Compromisso (DJ R7)</td>\n",
       "      <td>2017-06-08 23:50:03.000000</td>\n",
       "      <td>113036</td>\n",
       "      <td>2</td>\n",
       "      <td>2,400</td>\n",
       "      <td>76</td>\n",
       "      <td>393655</td>\n",
       "    </tr>\n",
       "    <tr>\n",
       "      <th>4</th>\n",
       "      <td>1428029</td>\n",
       "      <td>Tritonal</td>\n",
       "      <td>danceedm</td>\n",
       "      <td>AU</td>\n",
       "      <td>Escape (feat. Steph Jones)</td>\n",
       "      <td>2016-09-17 20:50:19.000000</td>\n",
       "      <td>110024</td>\n",
       "      <td>81</td>\n",
       "      <td>3,031</td>\n",
       "      <td>699</td>\n",
       "      <td>201030</td>\n",
       "    </tr>\n",
       "  </tbody>\n",
       "</table>\n",
       "</div>"
      ],
      "text/plain": [
       "   Unique_ID              Name     Genre Country  \\\n",
       "0     413890         Hardstyle  danceedm      AU   \n",
       "1     249453        Dj Aladdin  danceedm      AU   \n",
       "2     681116  Maxximize On Air  danceedm      AU   \n",
       "3     387253       GR6 EXPLODE    rbsoul      AU   \n",
       "4    1428029          Tritonal  danceedm      AU   \n",
       "\n",
       "                                           Song_Name  \\\n",
       "0  N-Vitral presents BOMBSQUAD - Poison Spitter (...   \n",
       "1          Dj Aladdin - Old School Hip Hop Quick Mix   \n",
       "2  Maxximize On Air - Mixed by Blasterjaxx - Epis...   \n",
       "3                MC Yago - Tenho Compromisso (DJ R7)   \n",
       "4                         Escape (feat. Steph Jones)   \n",
       "\n",
       "                    Timestamp   Views  Comments  Likes Popularity  Followers  \n",
       "0  2018-03-30 15:24:45.000000   14017         4    499         97     119563  \n",
       "1  2016-06-20 05:58:52.000000    1918        17     49         17       2141  \n",
       "2  2015-05-08 17:45:59.000000    9668        11    312         91      22248  \n",
       "3  2017-06-08 23:50:03.000000  113036         2  2,400         76     393655  \n",
       "4  2016-09-17 20:50:19.000000  110024        81  3,031        699     201030  "
      ]
     },
     "execution_count": 6,
     "metadata": {},
     "output_type": "execute_result"
    }
   ],
   "source": [
    "data= pd.read_csv(\"Data_Train.csv\")\n",
    "data.head()"
   ]
  },
  {
   "cell_type": "code",
   "execution_count": 7,
   "metadata": {},
   "outputs": [
    {
     "data": {
      "text/plain": [
       "(78458, 11)"
      ]
     },
     "execution_count": 7,
     "metadata": {},
     "output_type": "execute_result"
    }
   ],
   "source": [
    "data.shape"
   ]
  },
  {
   "cell_type": "markdown",
   "metadata": {},
   "source": [
    "### Analysing Datatypes of features"
   ]
  },
  {
   "cell_type": "code",
   "execution_count": 8,
   "metadata": {},
   "outputs": [
    {
     "data": {
      "text/plain": [
       "Unique_ID      int64\n",
       "Name          object\n",
       "Genre         object\n",
       "Country       object\n",
       "Song_Name     object\n",
       "Timestamp     object\n",
       "Views          int64\n",
       "Comments       int64\n",
       "Likes         object\n",
       "Popularity    object\n",
       "Followers      int64\n",
       "dtype: object"
      ]
     },
     "execution_count": 8,
     "metadata": {},
     "output_type": "execute_result"
    }
   ],
   "source": [
    "data.dtypes"
   ]
  },
  {
   "cell_type": "markdown",
   "metadata": {},
   "source": [
    "### Identifying if any Null Values are present in the Data"
   ]
  },
  {
   "cell_type": "code",
   "execution_count": 9,
   "metadata": {},
   "outputs": [
    {
     "data": {
      "text/plain": [
       "Unique_ID     0\n",
       "Name          0\n",
       "Genre         0\n",
       "Country       0\n",
       "Song_Name     1\n",
       "Timestamp     0\n",
       "Views         0\n",
       "Comments      0\n",
       "Likes         0\n",
       "Popularity    0\n",
       "Followers     0\n",
       "dtype: int64"
      ]
     },
     "execution_count": 9,
     "metadata": {},
     "output_type": "execute_result"
    }
   ],
   "source": [
    "data.isnull().sum()"
   ]
  },
  {
   "cell_type": "markdown",
   "metadata": {},
   "source": [
    "### Finding the Genres  present with their counts"
   ]
  },
  {
   "cell_type": "code",
   "execution_count": 10,
   "metadata": {},
   "outputs": [
    {
     "data": {
      "text/plain": [
       "danceedm                22633\n",
       "electronic              18331\n",
       "all-music               10277\n",
       "rbsoul                   5411\n",
       "latin                    4562\n",
       "trap                     4055\n",
       "rock                     4000\n",
       "deephouse                2423\n",
       "pop                      1787\n",
       "dubstep                  1100\n",
       "ambient                   847\n",
       "classical                 767\n",
       "drumbass                  671\n",
       "metal                     523\n",
       "disco                     374\n",
       "country                   336\n",
       "alternativerock           156\n",
       "hiphoprap                 100\n",
       "reggaeton                  55\n",
       "folksingersongwriter       39\n",
       "indie                      11\n",
       "Name: Genre, dtype: int64"
      ]
     },
     "execution_count": 10,
     "metadata": {},
     "output_type": "execute_result"
    }
   ],
   "source": [
    "data['Genre'].value_counts()"
   ]
  },
  {
   "cell_type": "markdown",
   "metadata": {},
   "source": [
    "### Analysing the 'Country' feature"
   ]
  },
  {
   "cell_type": "code",
   "execution_count": 11,
   "metadata": {},
   "outputs": [
    {
     "data": {
      "text/plain": [
       "AU    78458\n",
       "Name: Country, dtype: int64"
      ]
     },
     "execution_count": 11,
     "metadata": {},
     "output_type": "execute_result"
    }
   ],
   "source": [
    "data['Country'].value_counts()"
   ]
  },
  {
   "cell_type": "markdown",
   "metadata": {},
   "source": [
    "### Analysing the Various Artists"
   ]
  },
  {
   "cell_type": "code",
   "execution_count": 12,
   "metadata": {},
   "outputs": [
    {
     "data": {
      "text/plain": [
       "Mixmag           2065\n",
       "Monstercat       1425\n",
       "GR6 EXPLODE      1400\n",
       "Hardstyle        1124\n",
       "Sweet Musique     984\n",
       "                 ... \n",
       "Alex Grey           1\n",
       "KENNIE              1\n",
       "Mako                1\n",
       "Jhay Cortez         1\n",
       "essri               1\n",
       "Name: Name, Length: 1209, dtype: int64"
      ]
     },
     "execution_count": 12,
     "metadata": {},
     "output_type": "execute_result"
    }
   ],
   "source": [
    "data['Name'].value_counts()"
   ]
  },
  {
   "cell_type": "markdown",
   "metadata": {},
   "source": [
    "### Analysing the 'Timestamp' Feature"
   ]
  },
  {
   "cell_type": "code",
   "execution_count": 13,
   "metadata": {},
   "outputs": [],
   "source": [
    "data['Timestamp']= pd.to_datetime(data['Timestamp'],format='%Y-%m-%d')"
   ]
  },
  {
   "cell_type": "code",
   "execution_count": 14,
   "metadata": {},
   "outputs": [
    {
     "data": {
      "text/plain": [
       "0    2018\n",
       "1    2016\n",
       "2    2015\n",
       "3    2017\n",
       "4    2016\n",
       "Name: Year, dtype: int64"
      ]
     },
     "execution_count": 14,
     "metadata": {},
     "output_type": "execute_result"
    }
   ],
   "source": [
    "data['Year']= data['Timestamp'].dt.year\n",
    "data['Year'].head(5)"
   ]
  },
  {
   "cell_type": "code",
   "execution_count": 15,
   "metadata": {},
   "outputs": [
    {
     "data": {
      "text/plain": [
       "0    3\n",
       "1    6\n",
       "2    5\n",
       "3    6\n",
       "4    9\n",
       "Name: Month, dtype: int64"
      ]
     },
     "execution_count": 15,
     "metadata": {},
     "output_type": "execute_result"
    }
   ],
   "source": [
    "data['Month']= data['Timestamp'].dt.month\n",
    "data['Month'].head(5)"
   ]
  },
  {
   "cell_type": "markdown",
   "metadata": {},
   "source": [
    "### Since it is observed that there is only one unique country, we can drop the Feature. Also, 'Unique_ID','Timestamp' features will not contribute to the Model, hence it can be dropped"
   ]
  },
  {
   "cell_type": "code",
   "execution_count": 16,
   "metadata": {},
   "outputs": [],
   "source": [
    "data.drop(['Country','Unique_ID','Timestamp'],inplace=True,axis=1)"
   ]
  },
  {
   "cell_type": "code",
   "execution_count": 17,
   "metadata": {},
   "outputs": [
    {
     "data": {
      "text/html": [
       "<div>\n",
       "<style scoped>\n",
       "    .dataframe tbody tr th:only-of-type {\n",
       "        vertical-align: middle;\n",
       "    }\n",
       "\n",
       "    .dataframe tbody tr th {\n",
       "        vertical-align: top;\n",
       "    }\n",
       "\n",
       "    .dataframe thead th {\n",
       "        text-align: right;\n",
       "    }\n",
       "</style>\n",
       "<table border=\"1\" class=\"dataframe\">\n",
       "  <thead>\n",
       "    <tr style=\"text-align: right;\">\n",
       "      <th></th>\n",
       "      <th>Name</th>\n",
       "      <th>Genre</th>\n",
       "      <th>Song_Name</th>\n",
       "      <th>Views</th>\n",
       "      <th>Comments</th>\n",
       "      <th>Likes</th>\n",
       "      <th>Popularity</th>\n",
       "      <th>Followers</th>\n",
       "      <th>Year</th>\n",
       "      <th>Month</th>\n",
       "    </tr>\n",
       "  </thead>\n",
       "  <tbody>\n",
       "    <tr>\n",
       "      <th>0</th>\n",
       "      <td>Hardstyle</td>\n",
       "      <td>danceedm</td>\n",
       "      <td>N-Vitral presents BOMBSQUAD - Poison Spitter (...</td>\n",
       "      <td>14017</td>\n",
       "      <td>4</td>\n",
       "      <td>499</td>\n",
       "      <td>97</td>\n",
       "      <td>119563</td>\n",
       "      <td>2018</td>\n",
       "      <td>3</td>\n",
       "    </tr>\n",
       "    <tr>\n",
       "      <th>1</th>\n",
       "      <td>Dj Aladdin</td>\n",
       "      <td>danceedm</td>\n",
       "      <td>Dj Aladdin - Old School Hip Hop Quick Mix</td>\n",
       "      <td>1918</td>\n",
       "      <td>17</td>\n",
       "      <td>49</td>\n",
       "      <td>17</td>\n",
       "      <td>2141</td>\n",
       "      <td>2016</td>\n",
       "      <td>6</td>\n",
       "    </tr>\n",
       "    <tr>\n",
       "      <th>2</th>\n",
       "      <td>Maxximize On Air</td>\n",
       "      <td>danceedm</td>\n",
       "      <td>Maxximize On Air - Mixed by Blasterjaxx - Epis...</td>\n",
       "      <td>9668</td>\n",
       "      <td>11</td>\n",
       "      <td>312</td>\n",
       "      <td>91</td>\n",
       "      <td>22248</td>\n",
       "      <td>2015</td>\n",
       "      <td>5</td>\n",
       "    </tr>\n",
       "    <tr>\n",
       "      <th>3</th>\n",
       "      <td>GR6 EXPLODE</td>\n",
       "      <td>rbsoul</td>\n",
       "      <td>MC Yago - Tenho Compromisso (DJ R7)</td>\n",
       "      <td>113036</td>\n",
       "      <td>2</td>\n",
       "      <td>2,400</td>\n",
       "      <td>76</td>\n",
       "      <td>393655</td>\n",
       "      <td>2017</td>\n",
       "      <td>6</td>\n",
       "    </tr>\n",
       "    <tr>\n",
       "      <th>4</th>\n",
       "      <td>Tritonal</td>\n",
       "      <td>danceedm</td>\n",
       "      <td>Escape (feat. Steph Jones)</td>\n",
       "      <td>110024</td>\n",
       "      <td>81</td>\n",
       "      <td>3,031</td>\n",
       "      <td>699</td>\n",
       "      <td>201030</td>\n",
       "      <td>2016</td>\n",
       "      <td>9</td>\n",
       "    </tr>\n",
       "  </tbody>\n",
       "</table>\n",
       "</div>"
      ],
      "text/plain": [
       "               Name     Genre  \\\n",
       "0         Hardstyle  danceedm   \n",
       "1        Dj Aladdin  danceedm   \n",
       "2  Maxximize On Air  danceedm   \n",
       "3       GR6 EXPLODE    rbsoul   \n",
       "4          Tritonal  danceedm   \n",
       "\n",
       "                                           Song_Name   Views  Comments  Likes  \\\n",
       "0  N-Vitral presents BOMBSQUAD - Poison Spitter (...   14017         4    499   \n",
       "1          Dj Aladdin - Old School Hip Hop Quick Mix    1918        17     49   \n",
       "2  Maxximize On Air - Mixed by Blasterjaxx - Epis...    9668        11    312   \n",
       "3                MC Yago - Tenho Compromisso (DJ R7)  113036         2  2,400   \n",
       "4                         Escape (feat. Steph Jones)  110024        81  3,031   \n",
       "\n",
       "  Popularity  Followers  Year  Month  \n",
       "0         97     119563  2018      3  \n",
       "1         17       2141  2016      6  \n",
       "2         91      22248  2015      5  \n",
       "3         76     393655  2017      6  \n",
       "4        699     201030  2016      9  "
      ]
     },
     "execution_count": 17,
     "metadata": {},
     "output_type": "execute_result"
    }
   ],
   "source": [
    "data.head()"
   ]
  },
  {
   "cell_type": "markdown",
   "metadata": {},
   "source": [
    "### Since 'Song_Name' also would not contribute to the Algorithm, it is also dropped"
   ]
  },
  {
   "cell_type": "code",
   "execution_count": 18,
   "metadata": {},
   "outputs": [],
   "source": [
    "data.drop(['Song_Name'],inplace=True,axis=1)"
   ]
  },
  {
   "cell_type": "code",
   "execution_count": 19,
   "metadata": {},
   "outputs": [
    {
     "data": {
      "text/html": [
       "<div>\n",
       "<style scoped>\n",
       "    .dataframe tbody tr th:only-of-type {\n",
       "        vertical-align: middle;\n",
       "    }\n",
       "\n",
       "    .dataframe tbody tr th {\n",
       "        vertical-align: top;\n",
       "    }\n",
       "\n",
       "    .dataframe thead th {\n",
       "        text-align: right;\n",
       "    }\n",
       "</style>\n",
       "<table border=\"1\" class=\"dataframe\">\n",
       "  <thead>\n",
       "    <tr style=\"text-align: right;\">\n",
       "      <th></th>\n",
       "      <th>Name</th>\n",
       "      <th>Genre</th>\n",
       "      <th>Views</th>\n",
       "      <th>Comments</th>\n",
       "      <th>Likes</th>\n",
       "      <th>Popularity</th>\n",
       "      <th>Followers</th>\n",
       "      <th>Year</th>\n",
       "      <th>Month</th>\n",
       "    </tr>\n",
       "  </thead>\n",
       "  <tbody>\n",
       "    <tr>\n",
       "      <th>0</th>\n",
       "      <td>Hardstyle</td>\n",
       "      <td>danceedm</td>\n",
       "      <td>14017</td>\n",
       "      <td>4</td>\n",
       "      <td>499</td>\n",
       "      <td>97</td>\n",
       "      <td>119563</td>\n",
       "      <td>2018</td>\n",
       "      <td>3</td>\n",
       "    </tr>\n",
       "    <tr>\n",
       "      <th>1</th>\n",
       "      <td>Dj Aladdin</td>\n",
       "      <td>danceedm</td>\n",
       "      <td>1918</td>\n",
       "      <td>17</td>\n",
       "      <td>49</td>\n",
       "      <td>17</td>\n",
       "      <td>2141</td>\n",
       "      <td>2016</td>\n",
       "      <td>6</td>\n",
       "    </tr>\n",
       "    <tr>\n",
       "      <th>2</th>\n",
       "      <td>Maxximize On Air</td>\n",
       "      <td>danceedm</td>\n",
       "      <td>9668</td>\n",
       "      <td>11</td>\n",
       "      <td>312</td>\n",
       "      <td>91</td>\n",
       "      <td>22248</td>\n",
       "      <td>2015</td>\n",
       "      <td>5</td>\n",
       "    </tr>\n",
       "    <tr>\n",
       "      <th>3</th>\n",
       "      <td>GR6 EXPLODE</td>\n",
       "      <td>rbsoul</td>\n",
       "      <td>113036</td>\n",
       "      <td>2</td>\n",
       "      <td>2,400</td>\n",
       "      <td>76</td>\n",
       "      <td>393655</td>\n",
       "      <td>2017</td>\n",
       "      <td>6</td>\n",
       "    </tr>\n",
       "    <tr>\n",
       "      <th>4</th>\n",
       "      <td>Tritonal</td>\n",
       "      <td>danceedm</td>\n",
       "      <td>110024</td>\n",
       "      <td>81</td>\n",
       "      <td>3,031</td>\n",
       "      <td>699</td>\n",
       "      <td>201030</td>\n",
       "      <td>2016</td>\n",
       "      <td>9</td>\n",
       "    </tr>\n",
       "  </tbody>\n",
       "</table>\n",
       "</div>"
      ],
      "text/plain": [
       "               Name     Genre   Views  Comments  Likes Popularity  Followers  \\\n",
       "0         Hardstyle  danceedm   14017         4    499         97     119563   \n",
       "1        Dj Aladdin  danceedm    1918        17     49         17       2141   \n",
       "2  Maxximize On Air  danceedm    9668        11    312         91      22248   \n",
       "3       GR6 EXPLODE    rbsoul  113036         2  2,400         76     393655   \n",
       "4          Tritonal  danceedm  110024        81  3,031        699     201030   \n",
       "\n",
       "   Year  Month  \n",
       "0  2018      3  \n",
       "1  2016      6  \n",
       "2  2015      5  \n",
       "3  2017      6  \n",
       "4  2016      9  "
      ]
     },
     "execution_count": 19,
     "metadata": {},
     "output_type": "execute_result"
    }
   ],
   "source": [
    "data.head()"
   ]
  },
  {
   "cell_type": "markdown",
   "metadata": {},
   "source": [
    "### Cleaning the 'Likes' column and converting to int dtype"
   ]
  },
  {
   "cell_type": "code",
   "execution_count": 21,
   "metadata": {},
   "outputs": [],
   "source": [
    "data['Likes']= data['Likes'].str.replace(',','')\n",
    "data['Likes']= data['Likes'].str.replace('.','')\n",
    "data['Likes']= data['Likes'].str.replace('K','')\n",
    "data['Likes']= data['Likes'].str.replace('M','')"
   ]
  },
  {
   "cell_type": "code",
   "execution_count": 22,
   "metadata": {},
   "outputs": [],
   "source": [
    "data['Likes']= data['Likes'].astype('int')"
   ]
  },
  {
   "cell_type": "markdown",
   "metadata": {},
   "source": [
    "### Cleaning the 'Popularity' column and converting to int dtype"
   ]
  },
  {
   "cell_type": "code",
   "execution_count": 23,
   "metadata": {},
   "outputs": [],
   "source": [
    "data['Popularity']= data['Popularity'].str.replace(',','')\n",
    "data['Popularity']= data['Popularity'].str.replace('.','')\n",
    "data['Popularity']= data['Popularity'].str.replace('K','')"
   ]
  },
  {
   "cell_type": "code",
   "execution_count": 24,
   "metadata": {},
   "outputs": [],
   "source": [
    "data['Popularity']= data['Popularity'].astype('int')"
   ]
  },
  {
   "cell_type": "markdown",
   "metadata": {},
   "source": [
    "### Analysing the correlation between features"
   ]
  },
  {
   "cell_type": "code",
   "execution_count": 25,
   "metadata": {},
   "outputs": [
    {
     "data": {
      "text/html": [
       "<div>\n",
       "<style scoped>\n",
       "    .dataframe tbody tr th:only-of-type {\n",
       "        vertical-align: middle;\n",
       "    }\n",
       "\n",
       "    .dataframe tbody tr th {\n",
       "        vertical-align: top;\n",
       "    }\n",
       "\n",
       "    .dataframe thead th {\n",
       "        text-align: right;\n",
       "    }\n",
       "</style>\n",
       "<table border=\"1\" class=\"dataframe\">\n",
       "  <thead>\n",
       "    <tr style=\"text-align: right;\">\n",
       "      <th></th>\n",
       "      <th>Views</th>\n",
       "      <th>Comments</th>\n",
       "      <th>Likes</th>\n",
       "      <th>Popularity</th>\n",
       "      <th>Followers</th>\n",
       "      <th>Year</th>\n",
       "      <th>Month</th>\n",
       "    </tr>\n",
       "  </thead>\n",
       "  <tbody>\n",
       "    <tr>\n",
       "      <th>Views</th>\n",
       "      <td>1.000000</td>\n",
       "      <td>0.679104</td>\n",
       "      <td>-0.033708</td>\n",
       "      <td>0.164999</td>\n",
       "      <td>0.103603</td>\n",
       "      <td>-0.009043</td>\n",
       "      <td>0.002601</td>\n",
       "    </tr>\n",
       "    <tr>\n",
       "      <th>Comments</th>\n",
       "      <td>0.679104</td>\n",
       "      <td>1.000000</td>\n",
       "      <td>0.016417</td>\n",
       "      <td>0.167291</td>\n",
       "      <td>0.085034</td>\n",
       "      <td>-0.007455</td>\n",
       "      <td>0.004098</td>\n",
       "    </tr>\n",
       "    <tr>\n",
       "      <th>Likes</th>\n",
       "      <td>-0.033708</td>\n",
       "      <td>0.016417</td>\n",
       "      <td>1.000000</td>\n",
       "      <td>0.133275</td>\n",
       "      <td>0.058949</td>\n",
       "      <td>0.037965</td>\n",
       "      <td>0.024285</td>\n",
       "    </tr>\n",
       "    <tr>\n",
       "      <th>Popularity</th>\n",
       "      <td>0.164999</td>\n",
       "      <td>0.167291</td>\n",
       "      <td>0.133275</td>\n",
       "      <td>1.000000</td>\n",
       "      <td>0.139280</td>\n",
       "      <td>-0.038899</td>\n",
       "      <td>0.008377</td>\n",
       "    </tr>\n",
       "    <tr>\n",
       "      <th>Followers</th>\n",
       "      <td>0.103603</td>\n",
       "      <td>0.085034</td>\n",
       "      <td>0.058949</td>\n",
       "      <td>0.139280</td>\n",
       "      <td>1.000000</td>\n",
       "      <td>-0.180333</td>\n",
       "      <td>-0.003490</td>\n",
       "    </tr>\n",
       "    <tr>\n",
       "      <th>Year</th>\n",
       "      <td>-0.009043</td>\n",
       "      <td>-0.007455</td>\n",
       "      <td>0.037965</td>\n",
       "      <td>-0.038899</td>\n",
       "      <td>-0.180333</td>\n",
       "      <td>1.000000</td>\n",
       "      <td>-0.004072</td>\n",
       "    </tr>\n",
       "    <tr>\n",
       "      <th>Month</th>\n",
       "      <td>0.002601</td>\n",
       "      <td>0.004098</td>\n",
       "      <td>0.024285</td>\n",
       "      <td>0.008377</td>\n",
       "      <td>-0.003490</td>\n",
       "      <td>-0.004072</td>\n",
       "      <td>1.000000</td>\n",
       "    </tr>\n",
       "  </tbody>\n",
       "</table>\n",
       "</div>"
      ],
      "text/plain": [
       "               Views  Comments     Likes  Popularity  Followers      Year  \\\n",
       "Views       1.000000  0.679104 -0.033708    0.164999   0.103603 -0.009043   \n",
       "Comments    0.679104  1.000000  0.016417    0.167291   0.085034 -0.007455   \n",
       "Likes      -0.033708  0.016417  1.000000    0.133275   0.058949  0.037965   \n",
       "Popularity  0.164999  0.167291  0.133275    1.000000   0.139280 -0.038899   \n",
       "Followers   0.103603  0.085034  0.058949    0.139280   1.000000 -0.180333   \n",
       "Year       -0.009043 -0.007455  0.037965   -0.038899  -0.180333  1.000000   \n",
       "Month       0.002601  0.004098  0.024285    0.008377  -0.003490 -0.004072   \n",
       "\n",
       "               Month  \n",
       "Views       0.002601  \n",
       "Comments    0.004098  \n",
       "Likes       0.024285  \n",
       "Popularity  0.008377  \n",
       "Followers  -0.003490  \n",
       "Year       -0.004072  \n",
       "Month       1.000000  "
      ]
     },
     "execution_count": 25,
     "metadata": {},
     "output_type": "execute_result"
    }
   ],
   "source": [
    "Matrix=data.corr()\n",
    "Matrix"
   ]
  },
  {
   "cell_type": "code",
   "execution_count": 26,
   "metadata": {},
   "outputs": [
    {
     "data": {
      "text/plain": [
       "<matplotlib.axes._subplots.AxesSubplot at 0x2a3133b7e10>"
      ]
     },
     "execution_count": 26,
     "metadata": {},
     "output_type": "execute_result"
    },
    {
     "data": {
      "image/png": "[encoded data removed]",
      "text/plain": [
       "<Figure size 864x432 with 2 Axes>"
      ]
     },
     "metadata": {
      "needs_background": "light"
     },
     "output_type": "display_data"
    }
   ],
   "source": [
    "plt.figure(figsize=(12,6))\n",
    "sns.heatmap(Matrix,annot=True,cmap=\"YlGnBu\",)"
   ]
  },
  {
   "cell_type": "markdown",
   "metadata": {},
   "source": [
    "### Analysing the relationship between Comments & Views Feature "
   ]
  },
  {
   "cell_type": "code",
   "execution_count": 27,
   "metadata": {},
   "outputs": [
    {
     "data": {
      "text/plain": [
       "<seaborn.axisgrid.JointGrid at 0x2a316093630>"
      ]
     },
     "execution_count": 27,
     "metadata": {},
     "output_type": "execute_result"
    },
    {
     "data": {
      "image/png": "[encoded data removed]",
      "text/plain": [
       "<Figure size 432x432 with 3 Axes>"
      ]
     },
     "metadata": {
      "needs_background": "light"
     },
     "output_type": "display_data"
    }
   ],
   "source": [
    "sns.jointplot(data['Comments'],data['Views'])"
   ]
  },
  {
   "cell_type": "markdown",
   "metadata": {},
   "source": [
    "### Checking the Skewness in Data"
   ]
  },
  {
   "cell_type": "code",
   "execution_count": 28,
   "metadata": {},
   "outputs": [
    {
     "data": {
      "text/plain": [
       "Views         21.426371\n",
       "Comments      54.946169\n",
       "Likes          2.351534\n",
       "Popularity     4.241713\n",
       "Followers      4.434492\n",
       "Year          -3.528556\n",
       "Month         -0.069672\n",
       "dtype: float64"
      ]
     },
     "execution_count": 28,
     "metadata": {},
     "output_type": "execute_result"
    }
   ],
   "source": [
    "data.skew()"
   ]
  },
  {
   "cell_type": "markdown",
   "metadata": {},
   "source": [
    "### Transforming the Features to reduce skewness"
   ]
  },
  {
   "cell_type": "code",
   "execution_count": 31,
   "metadata": {},
   "outputs": [],
   "source": [
    "data['Views1']= np.log(data['Views']+1)\n",
    "data['Comments1']= np.log(data['Comments']+1)\n",
    "data['Popularity1']=np.log(data['Popularity']+1)\n",
    "data['Followers1']=np.log(data['Followers']+1)\n",
    "data['Likes1']=(data['Likes'])**(1/3)"
   ]
  },
  {
   "cell_type": "markdown",
   "metadata": {},
   "source": [
    "### Skewness Post Transformation"
   ]
  },
  {
   "cell_type": "code",
   "execution_count": 32,
   "metadata": {},
   "outputs": [
    {
     "data": {
      "text/plain": [
       "Views          21.426371\n",
       "Comments       54.946169\n",
       "Likes           2.351534\n",
       "Popularity      4.241713\n",
       "Followers       4.434492\n",
       "Year           -3.528556\n",
       "Month          -0.069672\n",
       "Views1         -0.691691\n",
       "Comments1       0.342899\n",
       "Popularity1    -0.194574\n",
       "Followers1     -0.665682\n",
       "Likes1          0.627549\n",
       "dtype: float64"
      ]
     },
     "execution_count": 32,
     "metadata": {},
     "output_type": "execute_result"
    }
   ],
   "source": [
    "data.skew()"
   ]
  },
  {
   "cell_type": "markdown",
   "metadata": {},
   "source": [
    "### Analysing the Data Distributions Post Transformation"
   ]
  },
  {
   "cell_type": "code",
   "execution_count": 29,
   "metadata": {},
   "outputs": [
    {
     "data": {
      "text/plain": [
       "(array([1.8700e+02, 3.4000e+01, 2.4000e+01, 6.8000e+01, 2.8800e+02,\n",
       "        2.8900e+02, 1.2280e+03, 8.2170e+03, 2.8248e+04, 3.9860e+04]),\n",
       " array([1990., 1993., 1996., 1999., 2002., 2005., 2008., 2011., 2014.,\n",
       "        2017., 2020.]),\n",
       " <a list of 10 Patch objects>)"
      ]
     },
     "execution_count": 29,
     "metadata": {},
     "output_type": "execute_result"
    },
    {
     "data": {
      "image/png": "[encoded data removed]",
      "text/plain": [
       "<Figure size 432x288 with 1 Axes>"
      ]
     },
     "metadata": {
      "needs_background": "light"
     },
     "output_type": "display_data"
    }
   ],
   "source": [
    "plt.hist(data['Year'],range=(1990,2020))"
   ]
  },
  {
   "cell_type": "code",
   "execution_count": 33,
   "metadata": {},
   "outputs": [
    {
     "data": {
      "text/plain": [
       "(array([ 1334.,   455.,  2370.,  7077., 19325., 25781., 14726.,  5587.,\n",
       "         1595.,   208.]),\n",
       " array([ 0.        ,  1.91108484,  3.82216968,  5.73325452,  7.64433936,\n",
       "         9.5554242 , 11.46650904, 13.37759388, 15.28867872, 17.19976356,\n",
       "        19.1108484 ]),\n",
       " <a list of 10 Patch objects>)"
      ]
     },
     "execution_count": 33,
     "metadata": {},
     "output_type": "execute_result"
    },
    {
     "data": {
      "image/png": "[encoded data removed]",
      "text/plain": [
       "<Figure size 432x288 with 1 Axes>"
      ]
     },
     "metadata": {
      "needs_background": "light"
     },
     "output_type": "display_data"
    }
   ],
   "source": [
    "plt.hist(data['Views1'],bins=10)"
   ]
  },
  {
   "cell_type": "code",
   "execution_count": 34,
   "metadata": {},
   "outputs": [
    {
     "data": {
      "text/plain": [
       "(array([ 6221., 10587., 15920., 14044., 10288.,  7374.,  5212.,  3841.,\n",
       "         2889.,  2082.]),\n",
       " array([ 0.        ,  2.15436287,  4.30872575,  6.46308862,  8.61745149,\n",
       "        10.77181437, 12.92617724, 15.08054011, 17.23490299, 19.38926586,\n",
       "        21.54362873]),\n",
       " <a list of 10 Patch objects>)"
      ]
     },
     "execution_count": 34,
     "metadata": {},
     "output_type": "execute_result"
    },
    {
     "data": {
      "image/png": "[encoded data removed]",
      "text/plain": [
       "<Figure size 432x288 with 1 Axes>"
      ]
     },
     "metadata": {
      "needs_background": "light"
     },
     "output_type": "display_data"
    }
   ],
   "source": [
    "plt.hist(data['Likes1'],bins=10)"
   ]
  },
  {
   "cell_type": "code",
   "execution_count": 35,
   "metadata": {},
   "outputs": [
    {
     "data": {
      "text/plain": [
       "(array([2.3622e+04, 1.2505e+04, 1.4501e+04, 1.3866e+04, 9.0210e+03,\n",
       "        3.3960e+03, 1.2140e+03, 2.8500e+02, 4.4000e+01, 4.0000e+00]),\n",
       " array([ 0.        ,  1.15529439,  2.31058879,  3.46588318,  4.62117757,\n",
       "         5.77647197,  6.93176636,  8.08706076,  9.24235515, 10.39764954,\n",
       "        11.55294394]),\n",
       " <a list of 10 Patch objects>)"
      ]
     },
     "execution_count": 35,
     "metadata": {},
     "output_type": "execute_result"
    },
    {
     "data": {
      "image/png": "[encoded data removed]",
      "text/plain": [
       "<Figure size 432x288 with 1 Axes>"
      ]
     },
     "metadata": {
      "needs_background": "light"
     },
     "output_type": "display_data"
    }
   ],
   "source": [
    "plt.hist(data['Comments1'],bins=10)"
   ]
  },
  {
   "cell_type": "code",
   "execution_count": 36,
   "metadata": {},
   "outputs": [
    {
     "data": {
      "text/plain": [
       "(array([ 9002.,  5203.,  6353.,  8431., 12177., 12936., 10400.,  7202.,\n",
       "         4480.,  2274.]),\n",
       " array([0.        , 0.92103404, 1.84206807, 2.76310211, 3.68413615,\n",
       "        4.60517019, 5.52620422, 6.44723826, 7.3682723 , 8.28930633,\n",
       "        9.21034037]),\n",
       " <a list of 10 Patch objects>)"
      ]
     },
     "execution_count": 36,
     "metadata": {},
     "output_type": "execute_result"
    },
    {
     "data": {
      "image/png": "[encoded data removed]",
      "text/plain": [
       "<Figure size 432x288 with 1 Axes>"
      ]
     },
     "metadata": {
      "needs_background": "light"
     },
     "output_type": "display_data"
    }
   ],
   "source": [
    "plt.hist(data['Popularity1'],bins=10)"
   ]
  },
  {
   "cell_type": "code",
   "execution_count": 37,
   "metadata": {},
   "outputs": [
    {
     "data": {
      "text/plain": [
       "(array([  110.,   445.,  1265.,  3555.,  5502.,  9742., 19915., 20727.,\n",
       "        13207.,  3990.]),\n",
       " array([ 0.69314718,  2.23351072,  3.77387425,  5.31423779,  6.85460132,\n",
       "         8.39496486,  9.93532839, 11.47569193, 13.01605546, 14.556419  ,\n",
       "        16.09678253]),\n",
       " <a list of 10 Patch objects>)"
      ]
     },
     "execution_count": 37,
     "metadata": {},
     "output_type": "execute_result"
    },
    {
     "data": {
      "image/png": "[encoded data removed]",
      "text/plain": [
       "<Figure size 432x288 with 1 Axes>"
      ]
     },
     "metadata": {
      "needs_background": "light"
     },
     "output_type": "display_data"
    }
   ],
   "source": [
    "plt.hist(data['Followers1'],bins=10)"
   ]
  },
  {
   "cell_type": "markdown",
   "metadata": {},
   "source": [
    "### Dropping the Features we no longer need"
   ]
  },
  {
   "cell_type": "code",
   "execution_count": 38,
   "metadata": {},
   "outputs": [
    {
     "data": {
      "text/plain": [
       "Index(['Name', 'Genre', 'Views', 'Comments', 'Likes', 'Popularity',\n",
       "       'Followers', 'Year', 'Month', 'Views1', 'Comments1', 'Popularity1',\n",
       "       'Followers1', 'Likes1'],\n",
       "      dtype='object')"
      ]
     },
     "execution_count": 38,
     "metadata": {},
     "output_type": "execute_result"
    }
   ],
   "source": [
    "data.columns"
   ]
  },
  {
   "cell_type": "code",
   "execution_count": 39,
   "metadata": {},
   "outputs": [],
   "source": [
    "data.drop(['Name', 'Views', 'Comments', 'Likes', 'Popularity','Followers'],inplace=True,axis=1)"
   ]
  },
  {
   "cell_type": "code",
   "execution_count": 40,
   "metadata": {},
   "outputs": [
    {
     "data": {
      "text/html": [
       "<div>\n",
       "<style scoped>\n",
       "    .dataframe tbody tr th:only-of-type {\n",
       "        vertical-align: middle;\n",
       "    }\n",
       "\n",
       "    .dataframe tbody tr th {\n",
       "        vertical-align: top;\n",
       "    }\n",
       "\n",
       "    .dataframe thead th {\n",
       "        text-align: right;\n",
       "    }\n",
       "</style>\n",
       "<table border=\"1\" class=\"dataframe\">\n",
       "  <thead>\n",
       "    <tr style=\"text-align: right;\">\n",
       "      <th></th>\n",
       "      <th>Genre</th>\n",
       "      <th>Year</th>\n",
       "      <th>Month</th>\n",
       "      <th>Views1</th>\n",
       "      <th>Comments1</th>\n",
       "      <th>Popularity1</th>\n",
       "      <th>Followers1</th>\n",
       "      <th>Likes1</th>\n",
       "    </tr>\n",
       "  </thead>\n",
       "  <tbody>\n",
       "    <tr>\n",
       "      <th>0</th>\n",
       "      <td>danceedm</td>\n",
       "      <td>2018</td>\n",
       "      <td>3</td>\n",
       "      <td>9.548097</td>\n",
       "      <td>1.609438</td>\n",
       "      <td>4.584967</td>\n",
       "      <td>11.691607</td>\n",
       "      <td>7.931710</td>\n",
       "    </tr>\n",
       "    <tr>\n",
       "      <th>1</th>\n",
       "      <td>danceedm</td>\n",
       "      <td>2016</td>\n",
       "      <td>6</td>\n",
       "      <td>7.559559</td>\n",
       "      <td>2.890372</td>\n",
       "      <td>2.890372</td>\n",
       "      <td>7.669495</td>\n",
       "      <td>3.659306</td>\n",
       "    </tr>\n",
       "    <tr>\n",
       "      <th>2</th>\n",
       "      <td>danceedm</td>\n",
       "      <td>2015</td>\n",
       "      <td>5</td>\n",
       "      <td>9.176680</td>\n",
       "      <td>2.484907</td>\n",
       "      <td>4.521789</td>\n",
       "      <td>10.010052</td>\n",
       "      <td>6.782423</td>\n",
       "    </tr>\n",
       "    <tr>\n",
       "      <th>3</th>\n",
       "      <td>rbsoul</td>\n",
       "      <td>2017</td>\n",
       "      <td>6</td>\n",
       "      <td>11.635470</td>\n",
       "      <td>1.098612</td>\n",
       "      <td>4.343805</td>\n",
       "      <td>12.883233</td>\n",
       "      <td>13.388659</td>\n",
       "    </tr>\n",
       "    <tr>\n",
       "      <th>4</th>\n",
       "      <td>danceedm</td>\n",
       "      <td>2016</td>\n",
       "      <td>9</td>\n",
       "      <td>11.608463</td>\n",
       "      <td>4.406719</td>\n",
       "      <td>6.551080</td>\n",
       "      <td>12.211214</td>\n",
       "      <td>14.472003</td>\n",
       "    </tr>\n",
       "  </tbody>\n",
       "</table>\n",
       "</div>"
      ],
      "text/plain": [
       "      Genre  Year  Month     Views1  Comments1  Popularity1  Followers1  \\\n",
       "0  danceedm  2018      3   9.548097   1.609438     4.584967   11.691607   \n",
       "1  danceedm  2016      6   7.559559   2.890372     2.890372    7.669495   \n",
       "2  danceedm  2015      5   9.176680   2.484907     4.521789   10.010052   \n",
       "3    rbsoul  2017      6  11.635470   1.098612     4.343805   12.883233   \n",
       "4  danceedm  2016      9  11.608463   4.406719     6.551080   12.211214   \n",
       "\n",
       "      Likes1  \n",
       "0   7.931710  \n",
       "1   3.659306  \n",
       "2   6.782423  \n",
       "3  13.388659  \n",
       "4  14.472003  "
      ]
     },
     "execution_count": 40,
     "metadata": {},
     "output_type": "execute_result"
    }
   ],
   "source": [
    "data.head()"
   ]
  },
  {
   "cell_type": "markdown",
   "metadata": {},
   "source": [
    "### Outlier Analysis"
   ]
  },
  {
   "cell_type": "code",
   "execution_count": 42,
   "metadata": {},
   "outputs": [
    {
     "data": {
      "text/plain": [
       "<matplotlib.axes._subplots.AxesSubplot at 0x2a3174f36d8>"
      ]
     },
     "execution_count": 42,
     "metadata": {},
     "output_type": "execute_result"
    },
    {
     "data": {
      "image/png": "[encoded data removed]",
      "text/plain": [
       "<Figure size 432x288 with 1 Axes>"
      ]
     },
     "metadata": {
      "needs_background": "light"
     },
     "output_type": "display_data"
    }
   ],
   "source": [
    "sns.boxplot(data['Views1'])"
   ]
  },
  {
   "cell_type": "code",
   "execution_count": 43,
   "metadata": {},
   "outputs": [
    {
     "data": {
      "text/plain": [
       "<matplotlib.axes._subplots.AxesSubplot at 0x2a315edf198>"
      ]
     },
     "execution_count": 43,
     "metadata": {},
     "output_type": "execute_result"
    },
    {
     "data": {
      "image/png": "[encoded data removed]",
      "text/plain": [
       "<Figure size 432x288 with 1 Axes>"
      ]
     },
     "metadata": {
      "needs_background": "light"
     },
     "output_type": "display_data"
    }
   ],
   "source": [
    "sns.boxplot(data['Comments1'])"
   ]
  },
  {
   "cell_type": "code",
   "execution_count": 44,
   "metadata": {},
   "outputs": [
    {
     "data": {
      "text/plain": [
       "<matplotlib.axes._subplots.AxesSubplot at 0x2a315f440f0>"
      ]
     },
     "execution_count": 44,
     "metadata": {},
     "output_type": "execute_result"
    },
    {
     "data": {
      "image/png": "[encoded data removed]",
      "text/plain": [
       "<Figure size 432x288 with 1 Axes>"
      ]
     },
     "metadata": {
      "needs_background": "light"
     },
     "output_type": "display_data"
    }
   ],
   "source": [
    "sns.boxplot(data['Likes1'])"
   ]
  },
  {
   "cell_type": "code",
   "execution_count": 45,
   "metadata": {},
   "outputs": [
    {
     "data": {
      "text/plain": [
       "<matplotlib.axes._subplots.AxesSubplot at 0x2a315fa0668>"
      ]
     },
     "execution_count": 45,
     "metadata": {},
     "output_type": "execute_result"
    },
    {
     "data": {
      "image/png": "[encoded data removed]",
      "text/plain": [
       "<Figure size 432x288 with 1 Axes>"
      ]
     },
     "metadata": {
      "needs_background": "light"
     },
     "output_type": "display_data"
    }
   ],
   "source": [
    "sns.boxplot(data['Popularity1'])"
   ]
  },
  {
   "cell_type": "code",
   "execution_count": 46,
   "metadata": {},
   "outputs": [
    {
     "data": {
      "text/plain": [
       "<matplotlib.axes._subplots.AxesSubplot at 0x2a3174ecac8>"
      ]
     },
     "execution_count": 46,
     "metadata": {},
     "output_type": "execute_result"
    },
    {
     "data": {
      "image/png": "[encoded data removed]",
      "text/plain": [
       "<Figure size 432x288 with 1 Axes>"
      ]
     },
     "metadata": {
      "needs_background": "light"
     },
     "output_type": "display_data"
    }
   ],
   "source": [
    "sns.boxplot(data['Followers1'])"
   ]
  },
  {
   "cell_type": "code",
   "execution_count": 55,
   "metadata": {},
   "outputs": [
    {
     "data": {
      "text/plain": [
       "<matplotlib.axes._subplots.AxesSubplot at 0x2a317702470>"
      ]
     },
     "execution_count": 55,
     "metadata": {},
     "output_type": "execute_result"
    },
    {
     "data": {
      "image/png": "[encoded data removed]",
      "text/plain": [
       "<Figure size 432x288 with 1 Axes>"
      ]
     },
     "metadata": {
      "needs_background": "light"
     },
     "output_type": "display_data"
    }
   ],
   "source": [
    "sns.boxplot(data['Year'])"
   ]
  },
  {
   "cell_type": "code",
   "execution_count": 56,
   "metadata": {},
   "outputs": [
    {
     "data": {
      "text/plain": [
       "<matplotlib.axes._subplots.AxesSubplot at 0x2a31773f278>"
      ]
     },
     "execution_count": 56,
     "metadata": {},
     "output_type": "execute_result"
    },
    {
     "data": {
      "image/png": "[encoded data removed]",
      "text/plain": [
       "<Figure size 432x288 with 1 Axes>"
      ]
     },
     "metadata": {
      "needs_background": "light"
     },
     "output_type": "display_data"
    }
   ],
   "source": [
    "sns.boxplot(data['Month'])"
   ]
  },
  {
   "cell_type": "markdown",
   "metadata": {},
   "source": [
    "### Clipping the Outliers"
   ]
  },
  {
   "cell_type": "code",
   "execution_count": 48,
   "metadata": {},
   "outputs": [
    {
     "data": {
      "text/html": [
       "<div>\n",
       "<style scoped>\n",
       "    .dataframe tbody tr th:only-of-type {\n",
       "        vertical-align: middle;\n",
       "    }\n",
       "\n",
       "    .dataframe tbody tr th {\n",
       "        vertical-align: top;\n",
       "    }\n",
       "\n",
       "    .dataframe thead th {\n",
       "        text-align: right;\n",
       "    }\n",
       "</style>\n",
       "<table border=\"1\" class=\"dataframe\">\n",
       "  <thead>\n",
       "    <tr style=\"text-align: right;\">\n",
       "      <th></th>\n",
       "      <th>Year</th>\n",
       "      <th>Month</th>\n",
       "      <th>Views1</th>\n",
       "      <th>Comments1</th>\n",
       "      <th>Popularity1</th>\n",
       "      <th>Followers1</th>\n",
       "      <th>Likes1</th>\n",
       "    </tr>\n",
       "  </thead>\n",
       "  <tbody>\n",
       "    <tr>\n",
       "      <th>count</th>\n",
       "      <td>78458.000000</td>\n",
       "      <td>78458.000000</td>\n",
       "      <td>78458.000000</td>\n",
       "      <td>78458.000000</td>\n",
       "      <td>78458.000000</td>\n",
       "      <td>78458.000000</td>\n",
       "      <td>78458.000000</td>\n",
       "    </tr>\n",
       "    <tr>\n",
       "      <th>mean</th>\n",
       "      <td>2015.931951</td>\n",
       "      <td>6.523962</td>\n",
       "      <td>10.071826</td>\n",
       "      <td>2.644811</td>\n",
       "      <td>4.247915</td>\n",
       "      <td>11.094879</td>\n",
       "      <td>8.250942</td>\n",
       "    </tr>\n",
       "    <tr>\n",
       "      <th>std</th>\n",
       "      <td>2.770140</td>\n",
       "      <td>3.622101</td>\n",
       "      <td>2.730808</td>\n",
       "      <td>2.001315</td>\n",
       "      <td>2.305045</td>\n",
       "      <td>2.438355</td>\n",
       "      <td>4.887189</td>\n",
       "    </tr>\n",
       "    <tr>\n",
       "      <th>min</th>\n",
       "      <td>1973.000000</td>\n",
       "      <td>1.000000</td>\n",
       "      <td>0.000000</td>\n",
       "      <td>0.000000</td>\n",
       "      <td>0.000000</td>\n",
       "      <td>0.693147</td>\n",
       "      <td>0.000000</td>\n",
       "    </tr>\n",
       "    <tr>\n",
       "      <th>25%</th>\n",
       "      <td>2015.000000</td>\n",
       "      <td>3.000000</td>\n",
       "      <td>8.735123</td>\n",
       "      <td>0.693147</td>\n",
       "      <td>2.639057</td>\n",
       "      <td>9.781376</td>\n",
       "      <td>4.762203</td>\n",
       "    </tr>\n",
       "    <tr>\n",
       "      <th>50%</th>\n",
       "      <td>2017.000000</td>\n",
       "      <td>7.000000</td>\n",
       "      <td>10.142012</td>\n",
       "      <td>2.564949</td>\n",
       "      <td>4.465908</td>\n",
       "      <td>11.381483</td>\n",
       "      <td>7.416860</td>\n",
       "    </tr>\n",
       "    <tr>\n",
       "      <th>75%</th>\n",
       "      <td>2018.000000</td>\n",
       "      <td>10.000000</td>\n",
       "      <td>11.696373</td>\n",
       "      <td>4.127134</td>\n",
       "      <td>5.916202</td>\n",
       "      <td>12.883233</td>\n",
       "      <td>11.226701</td>\n",
       "    </tr>\n",
       "    <tr>\n",
       "      <th>max</th>\n",
       "      <td>2019.000000</td>\n",
       "      <td>12.000000</td>\n",
       "      <td>19.110848</td>\n",
       "      <td>11.552944</td>\n",
       "      <td>9.210340</td>\n",
       "      <td>16.096783</td>\n",
       "      <td>21.543629</td>\n",
       "    </tr>\n",
       "  </tbody>\n",
       "</table>\n",
       "</div>"
      ],
      "text/plain": [
       "               Year         Month        Views1     Comments1   Popularity1  \\\n",
       "count  78458.000000  78458.000000  78458.000000  78458.000000  78458.000000   \n",
       "mean    2015.931951      6.523962     10.071826      2.644811      4.247915   \n",
       "std        2.770140      3.622101      2.730808      2.001315      2.305045   \n",
       "min     1973.000000      1.000000      0.000000      0.000000      0.000000   \n",
       "25%     2015.000000      3.000000      8.735123      0.693147      2.639057   \n",
       "50%     2017.000000      7.000000     10.142012      2.564949      4.465908   \n",
       "75%     2018.000000     10.000000     11.696373      4.127134      5.916202   \n",
       "max     2019.000000     12.000000     19.110848     11.552944      9.210340   \n",
       "\n",
       "         Followers1        Likes1  \n",
       "count  78458.000000  78458.000000  \n",
       "mean      11.094879      8.250942  \n",
       "std        2.438355      4.887189  \n",
       "min        0.693147      0.000000  \n",
       "25%        9.781376      4.762203  \n",
       "50%       11.381483      7.416860  \n",
       "75%       12.883233     11.226701  \n",
       "max       16.096783     21.543629  "
      ]
     },
     "execution_count": 48,
     "metadata": {},
     "output_type": "execute_result"
    }
   ],
   "source": [
    "data.describe()"
   ]
  },
  {
   "cell_type": "code",
   "execution_count": 53,
   "metadata": {},
   "outputs": [],
   "source": [
    "tf=8.74\n",
    "sf=11.70\n",
    "IQR=sf-tf\n",
    "LB= tf-1.5*(IQR)\n",
    "UB=sf+1.5*(IQR)\n",
    "data['Views1']= np.clip(data['Views1'],a_min=LB,a_max=UB)"
   ]
  },
  {
   "cell_type": "code",
   "execution_count": 54,
   "metadata": {},
   "outputs": [
    {
     "data": {
      "text/plain": [
       "<matplotlib.axes._subplots.AxesSubplot at 0x2a31769a2b0>"
      ]
     },
     "execution_count": 54,
     "metadata": {},
     "output_type": "execute_result"
    },
    {
     "data": {
      "image/png": "[encoded data removed]",
      "text/plain": [
       "<Figure size 432x288 with 1 Axes>"
      ]
     },
     "metadata": {
      "needs_background": "light"
     },
     "output_type": "display_data"
    }
   ],
   "source": [
    "sns.boxplot(data['Views1'])"
   ]
  },
  {
   "cell_type": "code",
   "execution_count": 51,
   "metadata": {},
   "outputs": [],
   "source": [
    "tf=9.781\n",
    "sf=12.883\n",
    "IQR=sf-tf\n",
    "LB= tf-1.5*(IQR)\n",
    "UB=sf+1.5*(IQR)\n",
    "data['Followers1']= np.clip(data['Followers1'],a_min=LB,a_max=UB)"
   ]
  },
  {
   "cell_type": "code",
   "execution_count": 52,
   "metadata": {},
   "outputs": [
    {
     "data": {
      "text/plain": [
       "<matplotlib.axes._subplots.AxesSubplot at 0x2a317649be0>"
      ]
     },
     "execution_count": 52,
     "metadata": {},
     "output_type": "execute_result"
    },
    {
     "data": {
      "image/png": "[encoded data removed]",
      "text/plain": [
       "<Figure size 432x288 with 1 Axes>"
      ]
     },
     "metadata": {
      "needs_background": "light"
     },
     "output_type": "display_data"
    }
   ],
   "source": [
    "sns.boxplot(data['Followers1'])"
   ]
  },
  {
   "cell_type": "code",
   "execution_count": 60,
   "metadata": {},
   "outputs": [],
   "source": [
    "data['Comments1']= np.clip(data['Comments1'],a_min=0.69,a_max=4.127)\n",
    "data['Likes1']= np.clip(data['Likes1'],a_min=4.76,a_max=11.22)\n",
    "data['Year']= np.clip(data['Year'],a_min=2014.0,a_max=2019.0)"
   ]
  },
  {
   "cell_type": "code",
   "execution_count": 61,
   "metadata": {},
   "outputs": [
    {
     "data": {
      "text/plain": [
       "<matplotlib.axes._subplots.AxesSubplot at 0x2a317823438>"
      ]
     },
     "execution_count": 61,
     "metadata": {},
     "output_type": "execute_result"
    },
    {
     "data": {
      "image/png": "[encoded data removed]",
      "text/plain": [
       "<Figure size 432x288 with 1 Axes>"
      ]
     },
     "metadata": {
      "needs_background": "light"
     },
     "output_type": "display_data"
    }
   ],
   "source": [
    "sns.boxplot(data['Year'])"
   ]
  },
  {
   "cell_type": "code",
   "execution_count": 59,
   "metadata": {},
   "outputs": [
    {
     "data": {
      "text/plain": [
       "<matplotlib.axes._subplots.AxesSubplot at 0x2a3177c6c18>"
      ]
     },
     "execution_count": 59,
     "metadata": {},
     "output_type": "execute_result"
    },
    {
     "data": {
      "image/png": "[encoded data removed]",
      "text/plain": [
       "<Figure size 432x288 with 1 Axes>"
      ]
     },
     "metadata": {
      "needs_background": "light"
     },
     "output_type": "display_data"
    }
   ],
   "source": [
    "sns.boxplot(data['Likes1'])"
   ]
  },
  {
   "cell_type": "code",
   "execution_count": 62,
   "metadata": {},
   "outputs": [
    {
     "data": {
      "text/plain": [
       "<matplotlib.axes._subplots.AxesSubplot at 0x2a317884940>"
      ]
     },
     "execution_count": 62,
     "metadata": {},
     "output_type": "execute_result"
    },
    {
     "data": {
      "image/png": "[encoded data removed]",
      "text/plain": [
       "<Figure size 432x288 with 1 Axes>"
      ]
     },
     "metadata": {
      "needs_background": "light"
     },
     "output_type": "display_data"
    }
   ],
   "source": [
    "sns.boxplot(data['Comments1'])"
   ]
  },
  {
   "cell_type": "code",
   "execution_count": 63,
   "metadata": {},
   "outputs": [
    {
     "data": {
      "text/html": [
       "<div>\n",
       "<style scoped>\n",
       "    .dataframe tbody tr th:only-of-type {\n",
       "        vertical-align: middle;\n",
       "    }\n",
       "\n",
       "    .dataframe tbody tr th {\n",
       "        vertical-align: top;\n",
       "    }\n",
       "\n",
       "    .dataframe thead th {\n",
       "        text-align: right;\n",
       "    }\n",
       "</style>\n",
       "<table border=\"1\" class=\"dataframe\">\n",
       "  <thead>\n",
       "    <tr style=\"text-align: right;\">\n",
       "      <th></th>\n",
       "      <th>Year</th>\n",
       "      <th>Month</th>\n",
       "      <th>Views1</th>\n",
       "      <th>Comments1</th>\n",
       "      <th>Popularity1</th>\n",
       "      <th>Followers1</th>\n",
       "      <th>Likes1</th>\n",
       "    </tr>\n",
       "  </thead>\n",
       "  <tbody>\n",
       "    <tr>\n",
       "      <th>count</th>\n",
       "      <td>78458.000000</td>\n",
       "      <td>78458.000000</td>\n",
       "      <td>78458.000000</td>\n",
       "      <td>78458.000000</td>\n",
       "      <td>78458.000000</td>\n",
       "      <td>78458.000000</td>\n",
       "      <td>78458.000000</td>\n",
       "    </tr>\n",
       "    <tr>\n",
       "      <th>mean</th>\n",
       "      <td>2016.496367</td>\n",
       "      <td>6.523962</td>\n",
       "      <td>10.144197</td>\n",
       "      <td>2.486183</td>\n",
       "      <td>4.247915</td>\n",
       "      <td>11.118912</td>\n",
       "      <td>7.781951</td>\n",
       "    </tr>\n",
       "    <tr>\n",
       "      <th>std</th>\n",
       "      <td>1.254684</td>\n",
       "      <td>3.622101</td>\n",
       "      <td>2.471611</td>\n",
       "      <td>1.382631</td>\n",
       "      <td>2.305045</td>\n",
       "      <td>2.369860</td>\n",
       "      <td>2.626176</td>\n",
       "    </tr>\n",
       "    <tr>\n",
       "      <th>min</th>\n",
       "      <td>2015.000000</td>\n",
       "      <td>1.000000</td>\n",
       "      <td>4.300000</td>\n",
       "      <td>0.690000</td>\n",
       "      <td>0.000000</td>\n",
       "      <td>5.128000</td>\n",
       "      <td>4.760000</td>\n",
       "    </tr>\n",
       "    <tr>\n",
       "      <th>25%</th>\n",
       "      <td>2015.000000</td>\n",
       "      <td>3.000000</td>\n",
       "      <td>8.735123</td>\n",
       "      <td>0.693147</td>\n",
       "      <td>2.639057</td>\n",
       "      <td>9.781376</td>\n",
       "      <td>4.762203</td>\n",
       "    </tr>\n",
       "    <tr>\n",
       "      <th>50%</th>\n",
       "      <td>2017.000000</td>\n",
       "      <td>7.000000</td>\n",
       "      <td>10.142012</td>\n",
       "      <td>2.564949</td>\n",
       "      <td>4.465908</td>\n",
       "      <td>11.381483</td>\n",
       "      <td>7.416860</td>\n",
       "    </tr>\n",
       "    <tr>\n",
       "      <th>75%</th>\n",
       "      <td>2018.000000</td>\n",
       "      <td>10.000000</td>\n",
       "      <td>11.696373</td>\n",
       "      <td>4.127000</td>\n",
       "      <td>5.916202</td>\n",
       "      <td>12.883233</td>\n",
       "      <td>11.220000</td>\n",
       "    </tr>\n",
       "    <tr>\n",
       "      <th>max</th>\n",
       "      <td>2018.000000</td>\n",
       "      <td>12.000000</td>\n",
       "      <td>16.140000</td>\n",
       "      <td>4.127000</td>\n",
       "      <td>9.210340</td>\n",
       "      <td>16.096000</td>\n",
       "      <td>11.220000</td>\n",
       "    </tr>\n",
       "  </tbody>\n",
       "</table>\n",
       "</div>"
      ],
      "text/plain": [
       "               Year         Month        Views1     Comments1   Popularity1  \\\n",
       "count  78458.000000  78458.000000  78458.000000  78458.000000  78458.000000   \n",
       "mean    2016.496367      6.523962     10.144197      2.486183      4.247915   \n",
       "std        1.254684      3.622101      2.471611      1.382631      2.305045   \n",
       "min     2015.000000      1.000000      4.300000      0.690000      0.000000   \n",
       "25%     2015.000000      3.000000      8.735123      0.693147      2.639057   \n",
       "50%     2017.000000      7.000000     10.142012      2.564949      4.465908   \n",
       "75%     2018.000000     10.000000     11.696373      4.127000      5.916202   \n",
       "max     2018.000000     12.000000     16.140000      4.127000      9.210340   \n",
       "\n",
       "         Followers1        Likes1  \n",
       "count  78458.000000  78458.000000  \n",
       "mean      11.118912      7.781951  \n",
       "std        2.369860      2.626176  \n",
       "min        5.128000      4.760000  \n",
       "25%        9.781376      4.762203  \n",
       "50%       11.381483      7.416860  \n",
       "75%       12.883233     11.220000  \n",
       "max       16.096000     11.220000  "
      ]
     },
     "execution_count": 63,
     "metadata": {},
     "output_type": "execute_result"
    }
   ],
   "source": [
    "data.describe()"
   ]
  },
  {
   "cell_type": "markdown",
   "metadata": {},
   "source": [
    "### Encoding the Genre Feature"
   ]
  },
  {
   "cell_type": "code",
   "execution_count": 64,
   "metadata": {},
   "outputs": [
    {
     "data": {
      "text/plain": [
       "danceedm                22633\n",
       "electronic              18331\n",
       "all-music               10277\n",
       "rbsoul                   5411\n",
       "latin                    4562\n",
       "trap                     4055\n",
       "rock                     4000\n",
       "deephouse                2423\n",
       "pop                      1787\n",
       "dubstep                  1100\n",
       "ambient                   847\n",
       "classical                 767\n",
       "drumbass                  671\n",
       "metal                     523\n",
       "disco                     374\n",
       "country                   336\n",
       "alternativerock           156\n",
       "hiphoprap                 100\n",
       "reggaeton                  55\n",
       "folksingersongwriter       39\n",
       "indie                      11\n",
       "Name: Genre, dtype: int64"
      ]
     },
     "execution_count": 64,
     "metadata": {},
     "output_type": "execute_result"
    }
   ],
   "source": [
    "data['Genre'].value_counts()"
   ]
  },
  {
   "cell_type": "code",
   "execution_count": 65,
   "metadata": {},
   "outputs": [
    {
     "data": {
      "text/html": [
       "<div>\n",
       "<style scoped>\n",
       "    .dataframe tbody tr th:only-of-type {\n",
       "        vertical-align: middle;\n",
       "    }\n",
       "\n",
       "    .dataframe tbody tr th {\n",
       "        vertical-align: top;\n",
       "    }\n",
       "\n",
       "    .dataframe thead th {\n",
       "        text-align: right;\n",
       "    }\n",
       "</style>\n",
       "<table border=\"1\" class=\"dataframe\">\n",
       "  <thead>\n",
       "    <tr style=\"text-align: right;\">\n",
       "      <th></th>\n",
       "      <th>Genre</th>\n",
       "      <th>Year</th>\n",
       "      <th>Month</th>\n",
       "      <th>Views1</th>\n",
       "      <th>Comments1</th>\n",
       "      <th>Popularity1</th>\n",
       "      <th>Followers1</th>\n",
       "      <th>Likes1</th>\n",
       "    </tr>\n",
       "  </thead>\n",
       "  <tbody>\n",
       "    <tr>\n",
       "      <th>0</th>\n",
       "      <td>5</td>\n",
       "      <td>2018</td>\n",
       "      <td>3</td>\n",
       "      <td>9.548097</td>\n",
       "      <td>1.609438</td>\n",
       "      <td>4.584967</td>\n",
       "      <td>11.691607</td>\n",
       "      <td>7.931710</td>\n",
       "    </tr>\n",
       "    <tr>\n",
       "      <th>1</th>\n",
       "      <td>5</td>\n",
       "      <td>2016</td>\n",
       "      <td>6</td>\n",
       "      <td>7.559559</td>\n",
       "      <td>2.890372</td>\n",
       "      <td>2.890372</td>\n",
       "      <td>7.669495</td>\n",
       "      <td>4.760000</td>\n",
       "    </tr>\n",
       "    <tr>\n",
       "      <th>2</th>\n",
       "      <td>5</td>\n",
       "      <td>2015</td>\n",
       "      <td>5</td>\n",
       "      <td>9.176680</td>\n",
       "      <td>2.484907</td>\n",
       "      <td>4.521789</td>\n",
       "      <td>10.010052</td>\n",
       "      <td>6.782423</td>\n",
       "    </tr>\n",
       "    <tr>\n",
       "      <th>3</th>\n",
       "      <td>17</td>\n",
       "      <td>2017</td>\n",
       "      <td>6</td>\n",
       "      <td>11.635470</td>\n",
       "      <td>1.098612</td>\n",
       "      <td>4.343805</td>\n",
       "      <td>12.883233</td>\n",
       "      <td>11.220000</td>\n",
       "    </tr>\n",
       "    <tr>\n",
       "      <th>4</th>\n",
       "      <td>5</td>\n",
       "      <td>2016</td>\n",
       "      <td>9</td>\n",
       "      <td>11.608463</td>\n",
       "      <td>4.127000</td>\n",
       "      <td>6.551080</td>\n",
       "      <td>12.211214</td>\n",
       "      <td>11.220000</td>\n",
       "    </tr>\n",
       "  </tbody>\n",
       "</table>\n",
       "</div>"
      ],
      "text/plain": [
       "   Genre  Year  Month     Views1  Comments1  Popularity1  Followers1  \\\n",
       "0      5  2018      3   9.548097   1.609438     4.584967   11.691607   \n",
       "1      5  2016      6   7.559559   2.890372     2.890372    7.669495   \n",
       "2      5  2015      5   9.176680   2.484907     4.521789   10.010052   \n",
       "3     17  2017      6  11.635470   1.098612     4.343805   12.883233   \n",
       "4      5  2016      9  11.608463   4.127000     6.551080   12.211214   \n",
       "\n",
       "      Likes1  \n",
       "0   7.931710  \n",
       "1   4.760000  \n",
       "2   6.782423  \n",
       "3  11.220000  \n",
       "4  11.220000  "
      ]
     },
     "execution_count": 65,
     "metadata": {},
     "output_type": "execute_result"
    }
   ],
   "source": [
    "from sklearn.preprocessing import LabelEncoder\n",
    "x1=LabelEncoder() \n",
    "data['Genre']= x1.fit_transform(data['Genre']) \n",
    "data.head()"
   ]
  },
  {
   "cell_type": "markdown",
   "metadata": {},
   "source": [
    "### Scaling the Data"
   ]
  },
  {
   "cell_type": "markdown",
   "metadata": {},
   "source": [
    "### Using Standard Scaler "
   ]
  },
  {
   "cell_type": "code",
   "execution_count": 69,
   "metadata": {},
   "outputs": [
    {
     "data": {
      "text/html": [
       "<div>\n",
       "<style scoped>\n",
       "    .dataframe tbody tr th:only-of-type {\n",
       "        vertical-align: middle;\n",
       "    }\n",
       "\n",
       "    .dataframe tbody tr th {\n",
       "        vertical-align: top;\n",
       "    }\n",
       "\n",
       "    .dataframe thead th {\n",
       "        text-align: right;\n",
       "    }\n",
       "</style>\n",
       "<table border=\"1\" class=\"dataframe\">\n",
       "  <thead>\n",
       "    <tr style=\"text-align: right;\">\n",
       "      <th></th>\n",
       "      <th>Genre</th>\n",
       "      <th>Year</th>\n",
       "      <th>Month</th>\n",
       "      <th>Views1</th>\n",
       "      <th>Comments1</th>\n",
       "      <th>Popularity1</th>\n",
       "      <th>Followers1</th>\n",
       "      <th>Likes1</th>\n",
       "    </tr>\n",
       "  </thead>\n",
       "  <tbody>\n",
       "    <tr>\n",
       "      <th>0</th>\n",
       "      <td>-0.629776</td>\n",
       "      <td>1.198423</td>\n",
       "      <td>-0.972912</td>\n",
       "      <td>-0.241180</td>\n",
       "      <td>-0.634118</td>\n",
       "      <td>0.146225</td>\n",
       "      <td>0.241659</td>\n",
       "      <td>0.057026</td>\n",
       "    </tr>\n",
       "    <tr>\n",
       "      <th>1</th>\n",
       "      <td>-0.629776</td>\n",
       "      <td>-0.395614</td>\n",
       "      <td>-0.144658</td>\n",
       "      <td>-1.045737</td>\n",
       "      <td>0.292335</td>\n",
       "      <td>-0.588948</td>\n",
       "      <td>-1.455545</td>\n",
       "      <td>-1.150711</td>\n",
       "    </tr>\n",
       "    <tr>\n",
       "      <th>2</th>\n",
       "      <td>-0.629776</td>\n",
       "      <td>-1.192633</td>\n",
       "      <td>-0.420742</td>\n",
       "      <td>-0.391454</td>\n",
       "      <td>-0.000923</td>\n",
       "      <td>0.118816</td>\n",
       "      <td>-0.467904</td>\n",
       "      <td>-0.380604</td>\n",
       "    </tr>\n",
       "    <tr>\n",
       "      <th>3</th>\n",
       "      <td>1.385231</td>\n",
       "      <td>0.401405</td>\n",
       "      <td>-0.144658</td>\n",
       "      <td>0.603365</td>\n",
       "      <td>-1.003579</td>\n",
       "      <td>0.041601</td>\n",
       "      <td>0.744488</td>\n",
       "      <td>1.309155</td>\n",
       "    </tr>\n",
       "    <tr>\n",
       "      <th>4</th>\n",
       "      <td>-0.629776</td>\n",
       "      <td>-0.395614</td>\n",
       "      <td>0.683596</td>\n",
       "      <td>0.592438</td>\n",
       "      <td>1.186743</td>\n",
       "      <td>0.999191</td>\n",
       "      <td>0.460917</td>\n",
       "      <td>1.309155</td>\n",
       "    </tr>\n",
       "  </tbody>\n",
       "</table>\n",
       "</div>"
      ],
      "text/plain": [
       "      Genre      Year     Month    Views1  Comments1  Popularity1  Followers1  \\\n",
       "0 -0.629776  1.198423 -0.972912 -0.241180  -0.634118     0.146225    0.241659   \n",
       "1 -0.629776 -0.395614 -0.144658 -1.045737   0.292335    -0.588948   -1.455545   \n",
       "2 -0.629776 -1.192633 -0.420742 -0.391454  -0.000923     0.118816   -0.467904   \n",
       "3  1.385231  0.401405 -0.144658  0.603365  -1.003579     0.041601    0.744488   \n",
       "4 -0.629776 -0.395614  0.683596  0.592438   1.186743     0.999191    0.460917   \n",
       "\n",
       "     Likes1  \n",
       "0  0.057026  \n",
       "1 -1.150711  \n",
       "2 -0.380604  \n",
       "3  1.309155  \n",
       "4  1.309155  "
      ]
     },
     "execution_count": 69,
     "metadata": {},
     "output_type": "execute_result"
    }
   ],
   "source": [
    "sc=StandardScaler()  \n",
    "sc_data=sc.fit_transform(data)\n",
    "sc_data=pd.DataFrame(sc_data)\n",
    "sc_data.columns=data.columns\n",
    "sc_data.head()"
   ]
  },
  {
   "cell_type": "code",
   "execution_count": 70,
   "metadata": {},
   "outputs": [
    {
     "data": {
      "text/plain": [
       "<matplotlib.axes._subplots.AxesSubplot at 0x2a317db3860>"
      ]
     },
     "execution_count": 70,
     "metadata": {},
     "output_type": "execute_result"
    },
    {
     "data": {
      "image/png": "[encoded data removed]",
      "text/plain": [
       "<Figure size 1008x432 with 1 Axes>"
      ]
     },
     "metadata": {
      "needs_background": "light"
     },
     "output_type": "display_data"
    }
   ],
   "source": [
    "plt.figure(figsize=(14,6))\n",
    "plt.xlim(-5,5)\n",
    "plt.ylim(0,2)\n",
    "sns.kdeplot(sc_data['Genre'])\n",
    "sns.kdeplot(sc_data['Views1'])\n",
    "sns.kdeplot(sc_data['Comments1'])\n",
    "sns.kdeplot(sc_data['Popularity1'])\n",
    "sns.kdeplot(sc_data['Followers1'])\n",
    "sns.kdeplot(sc_data['Likes1'])\n",
    "sns.kdeplot(sc_data['Year'])\n",
    "sns.kdeplot(sc_data['Month'])"
   ]
  },
  {
   "cell_type": "markdown",
   "metadata": {},
   "source": [
    "### Using Robust Scaler"
   ]
  },
  {
   "cell_type": "code",
   "execution_count": 71,
   "metadata": {},
   "outputs": [],
   "source": [
    "rbsc= RobustScaler()\n",
    "rbsc_data= rbsc.fit_transform(data)\n",
    "rbsc_data=pd.DataFrame(rbsc_data)\n",
    "rbsc_data.columns=data.columns"
   ]
  },
  {
   "cell_type": "code",
   "execution_count": 72,
   "metadata": {},
   "outputs": [
    {
     "data": {
      "text/html": [
       "<div>\n",
       "<style scoped>\n",
       "    .dataframe tbody tr th:only-of-type {\n",
       "        vertical-align: middle;\n",
       "    }\n",
       "\n",
       "    .dataframe tbody tr th {\n",
       "        vertical-align: top;\n",
       "    }\n",
       "\n",
       "    .dataframe thead th {\n",
       "        text-align: right;\n",
       "    }\n",
       "</style>\n",
       "<table border=\"1\" class=\"dataframe\">\n",
       "  <thead>\n",
       "    <tr style=\"text-align: right;\">\n",
       "      <th></th>\n",
       "      <th>Genre</th>\n",
       "      <th>Year</th>\n",
       "      <th>Month</th>\n",
       "      <th>Views1</th>\n",
       "      <th>Comments1</th>\n",
       "      <th>Popularity1</th>\n",
       "      <th>Followers1</th>\n",
       "      <th>Likes1</th>\n",
       "    </tr>\n",
       "  </thead>\n",
       "  <tbody>\n",
       "    <tr>\n",
       "      <th>0</th>\n",
       "      <td>-0.444444</td>\n",
       "      <td>0.333333</td>\n",
       "      <td>-0.571429</td>\n",
       "      <td>-0.200562</td>\n",
       "      <td>-0.278262</td>\n",
       "      <td>0.036330</td>\n",
       "      <td>0.099980</td>\n",
       "      <td>0.079725</td>\n",
       "    </tr>\n",
       "    <tr>\n",
       "      <th>1</th>\n",
       "      <td>-0.444444</td>\n",
       "      <td>-0.333333</td>\n",
       "      <td>-0.142857</td>\n",
       "      <td>-0.872082</td>\n",
       "      <td>0.094769</td>\n",
       "      <td>-0.480765</td>\n",
       "      <td>-1.196699</td>\n",
       "      <td>-0.411419</td>\n",
       "    </tr>\n",
       "    <tr>\n",
       "      <th>2</th>\n",
       "      <td>-0.444444</td>\n",
       "      <td>-0.666667</td>\n",
       "      <td>-0.285714</td>\n",
       "      <td>-0.325988</td>\n",
       "      <td>-0.023310</td>\n",
       "      <td>0.017052</td>\n",
       "      <td>-0.442132</td>\n",
       "      <td>-0.098244</td>\n",
       "    </tr>\n",
       "    <tr>\n",
       "      <th>3</th>\n",
       "      <td>0.888889</td>\n",
       "      <td>0.000000</td>\n",
       "      <td>-0.142857</td>\n",
       "      <td>0.504334</td>\n",
       "      <td>-0.427024</td>\n",
       "      <td>-0.037259</td>\n",
       "      <td>0.484145</td>\n",
       "      <td>0.588922</td>\n",
       "    </tr>\n",
       "    <tr>\n",
       "      <th>4</th>\n",
       "      <td>-0.444444</td>\n",
       "      <td>-0.333333</td>\n",
       "      <td>0.285714</td>\n",
       "      <td>0.495213</td>\n",
       "      <td>0.454897</td>\n",
       "      <td>0.636277</td>\n",
       "      <td>0.267495</td>\n",
       "      <td>0.588922</td>\n",
       "    </tr>\n",
       "  </tbody>\n",
       "</table>\n",
       "</div>"
      ],
      "text/plain": [
       "      Genre      Year     Month    Views1  Comments1  Popularity1  Followers1  \\\n",
       "0 -0.444444  0.333333 -0.571429 -0.200562  -0.278262     0.036330    0.099980   \n",
       "1 -0.444444 -0.333333 -0.142857 -0.872082   0.094769    -0.480765   -1.196699   \n",
       "2 -0.444444 -0.666667 -0.285714 -0.325988  -0.023310     0.017052   -0.442132   \n",
       "3  0.888889  0.000000 -0.142857  0.504334  -0.427024    -0.037259    0.484145   \n",
       "4 -0.444444 -0.333333  0.285714  0.495213   0.454897     0.636277    0.267495   \n",
       "\n",
       "     Likes1  \n",
       "0  0.079725  \n",
       "1 -0.411419  \n",
       "2 -0.098244  \n",
       "3  0.588922  \n",
       "4  0.588922  "
      ]
     },
     "execution_count": 72,
     "metadata": {},
     "output_type": "execute_result"
    }
   ],
   "source": [
    "rbsc_data.head()"
   ]
  },
  {
   "cell_type": "code",
   "execution_count": 73,
   "metadata": {},
   "outputs": [
    {
     "data": {
      "text/plain": [
       "<matplotlib.axes._subplots.AxesSubplot at 0x2a31837fac8>"
      ]
     },
     "execution_count": 73,
     "metadata": {},
     "output_type": "execute_result"
    },
    {
     "data": {
      "image/png": "[encoded data removed]",
      "text/plain": [
       "<Figure size 1008x432 with 1 Axes>"
      ]
     },
     "metadata": {
      "needs_background": "light"
     },
     "output_type": "display_data"
    }
   ],
   "source": [
    "plt.figure(figsize=(14,6))\n",
    "plt.xlim(-5,5)\n",
    "plt.ylim(0,2)\n",
    "sns.kdeplot(rbsc_data['Genre'])\n",
    "sns.kdeplot(rbsc_data['Views1'])\n",
    "sns.kdeplot(rbsc_data['Comments1'])\n",
    "sns.kdeplot(rbsc_data['Popularity1'])\n",
    "sns.kdeplot(rbsc_data['Followers1'])\n",
    "sns.kdeplot(rbsc_data['Likes1'])\n",
    "sns.kdeplot(rbsc_data['Year'])\n",
    "sns.kdeplot(rbsc_data['Month'])"
   ]
  },
  {
   "cell_type": "markdown",
   "metadata": {},
   "source": [
    "### Standard Scaler performance better than Robust for this Dataset"
   ]
  },
  {
   "cell_type": "markdown",
   "metadata": {},
   "source": [
    "### Splitting into Train-Test Sets"
   ]
  },
  {
   "cell_type": "code",
   "execution_count": 74,
   "metadata": {},
   "outputs": [],
   "source": [
    "X= sc_data[['Comments1','Popularity1','Followers1','Likes1','Genre','Year','Month']]"
   ]
  },
  {
   "cell_type": "code",
   "execution_count": 75,
   "metadata": {},
   "outputs": [],
   "source": [
    "Y= data[['Views1']]"
   ]
  },
  {
   "cell_type": "code",
   "execution_count": 76,
   "metadata": {},
   "outputs": [],
   "source": [
    "x_train,x_test,y_train,y_test= train_test_split(X,Y,test_size=0.3,random_state=0)"
   ]
  },
  {
   "cell_type": "markdown",
   "metadata": {},
   "source": [
    "## Linear Regression"
   ]
  },
  {
   "cell_type": "code",
   "execution_count": 77,
   "metadata": {},
   "outputs": [
    {
     "name": "stdout",
     "output_type": "stream",
     "text": [
      "Coeff:  [[-0.04609833  2.03528991  0.17647593  0.00966744 -0.00652953 -0.1150016\n",
      "   0.03603735]]\n",
      "Intercept:  [10.14784821]\n"
     ]
    }
   ],
   "source": [
    "reg= LinearRegression()\n",
    "reg=reg.fit(x_train,y_train)\n",
    "print('Coeff: ',reg.coef_)\n",
    "print('Intercept: ',reg.intercept_)"
   ]
  },
  {
   "cell_type": "code",
   "execution_count": 78,
   "metadata": {},
   "outputs": [],
   "source": [
    "y_pred=reg.predict(x_test)"
   ]
  },
  {
   "cell_type": "code",
   "execution_count": 79,
   "metadata": {},
   "outputs": [
    {
     "name": "stdout",
     "output_type": "stream",
     "text": [
      "RMSE= 1.2828944958001964\n",
      "Regressor Score = 0.7336346258771543\n"
     ]
    }
   ],
   "source": [
    "rmse= np.sqrt(mean_squared_error(y_test,y_pred))\n",
    "print('RMSE=',rmse)\n",
    "lin_r2= r2_score(y_test,y_pred)\n",
    "print(\"Regressor Score =\",lin_r2)"
   ]
  },
  {
   "cell_type": "code",
   "execution_count": 80,
   "metadata": {},
   "outputs": [
    {
     "data": {
      "text/plain": [
       "Text(0.5, 1.0, 'Residual Plot')"
      ]
     },
     "execution_count": 80,
     "metadata": {},
     "output_type": "execute_result"
    },
    {
     "data": {
      "image/png": "[encoded data removed]",
      "text/plain": [
       "<Figure size 432x288 with 1 Axes>"
      ]
     },
     "metadata": {
      "needs_background": "light"
     },
     "output_type": "display_data"
    }
   ],
   "source": [
    "\n",
    "x=[i for i in range(1,len(y_pred)+1)]\n",
    "\n",
    "x_plot= plt.scatter(x,(y_test-y_pred),color='magenta')\n",
    "plt.axhline(y=0,color='black')  #plt.plot(x,[0]*len(y_pred),color='black')  \n",
    "plt.title('Residual Plot')"
   ]
  },
  {
   "cell_type": "markdown",
   "metadata": {},
   "source": [
    "## Ridge Regression"
   ]
  },
  {
   "cell_type": "code",
   "execution_count": 81,
   "metadata": {},
   "outputs": [
    {
     "name": "stdout",
     "output_type": "stream",
     "text": [
      "Ridge Regression Coeff:  [[ 0.007406    1.95652451  0.1861458   0.02377427 -0.010861   -0.11117877\n",
      "   0.036845  ]]\n",
      "Ridge Regression Intercept:  [10.14781973]\n"
     ]
    }
   ],
   "source": [
    "ridgeReg= Ridge(alpha=0.01, normalize=True)\n",
    "ridgeReg.fit(x_train,y_train)\n",
    "print('Ridge Regression Coeff: ',ridgeReg.coef_)\n",
    "print('Ridge Regression Intercept: ',ridgeReg.intercept_)"
   ]
  },
  {
   "cell_type": "code",
   "execution_count": 82,
   "metadata": {},
   "outputs": [],
   "source": [
    "y_pred=ridgeReg.predict(x_test)"
   ]
  },
  {
   "cell_type": "code",
   "execution_count": 83,
   "metadata": {},
   "outputs": [
    {
     "name": "stdout",
     "output_type": "stream",
     "text": [
      "RMSE= 1.2837997966554495\n",
      "Regressor Score = 0.733258560838645\n"
     ]
    }
   ],
   "source": [
    "rmse= np.sqrt(mean_squared_error(y_test,y_pred))\n",
    "print('RMSE=',rmse)\n",
    "ridge_r2= r2_score(y_test,y_pred)\n",
    "print(\"Regressor Score =\",ridge_r2)"
   ]
  },
  {
   "cell_type": "markdown",
   "metadata": {},
   "source": [
    "## Lasso Regression"
   ]
  },
  {
   "cell_type": "code",
   "execution_count": 84,
   "metadata": {},
   "outputs": [
    {
     "name": "stdout",
     "output_type": "stream",
     "text": [
      "Lasso Regression Coeff:  [ 0.  0.  0.  0. -0. -0.  0.]\n",
      "Lasso Regression Intercept:  [10.14732919]\n"
     ]
    }
   ],
   "source": [
    "lassoReg= Lasso(alpha=0.1, normalize= True)  \n",
    "lassoReg.fit(x_train,y_train)\n",
    "print('Lasso Regression Coeff: ',lassoReg.coef_)\n",
    "print('Lasso Regression Intercept: ',lassoReg.intercept_)"
   ]
  },
  {
   "cell_type": "code",
   "execution_count": 85,
   "metadata": {},
   "outputs": [],
   "source": [
    "y_pred=lassoReg.predict(x_test)"
   ]
  },
  {
   "cell_type": "code",
   "execution_count": 86,
   "metadata": {},
   "outputs": [
    {
     "name": "stdout",
     "output_type": "stream",
     "text": [
      "RMSE= 2.485741077820961\n",
      "Regressor Score = -1.764580054874898e-05\n"
     ]
    }
   ],
   "source": [
    "rmse= np.sqrt(mean_squared_error(y_test,y_pred))\n",
    "print('RMSE=',rmse)\n",
    "lasso_r2= r2_score(y_test,y_pred)\n",
    "print(\"Regressor Score =\",lasso_r2)"
   ]
  },
  {
   "cell_type": "markdown",
   "metadata": {},
   "source": [
    "## Random Forest Regressor"
   ]
  },
  {
   "cell_type": "code",
   "execution_count": 87,
   "metadata": {},
   "outputs": [
    {
     "name": "stderr",
     "output_type": "stream",
     "text": [
      "C:\\Users\\Arpitha Ananth\\Anaconda3\\lib\\site-packages\\sklearn\\ensemble\\forest.py:245: FutureWarning: The default value of n_estimators will change from 10 in version 0.20 to 100 in 0.22.\n",
      "  \"10 in version 0.20 to 100 in 0.22.\", FutureWarning)\n",
      "C:\\Users\\Arpitha Ananth\\Anaconda3\\lib\\site-packages\\ipykernel_launcher.py:2: DataConversionWarning: A column-vector y was passed when a 1d array was expected. Please change the shape of y to (n_samples,), for example using ravel().\n",
      "  \n"
     ]
    }
   ],
   "source": [
    "rfReg=RandomForestRegressor()\n",
    "rfReg.fit(x_train,y_train)\n",
    "y_pred= rfReg.predict(x_test)"
   ]
  },
  {
   "cell_type": "code",
   "execution_count": 88,
   "metadata": {},
   "outputs": [
    {
     "name": "stdout",
     "output_type": "stream",
     "text": [
      "RMSE= 0.578974981911634\n",
      "Regressor Score = 0.945748034043536\n"
     ]
    }
   ],
   "source": [
    "rmse= np.sqrt(mean_squared_error(y_test,y_pred))\n",
    "print('RMSE=',rmse)\n",
    "RF_r2= r2_score(y_test,y_pred)\n",
    "print(\"Regressor Score =\",RF_r2)"
   ]
  },
  {
   "cell_type": "markdown",
   "metadata": {},
   "source": [
    "## AdaBoostRegressor"
   ]
  },
  {
   "cell_type": "code",
   "execution_count": 89,
   "metadata": {},
   "outputs": [
    {
     "name": "stderr",
     "output_type": "stream",
     "text": [
      "C:\\Users\\Arpitha Ananth\\Anaconda3\\lib\\site-packages\\sklearn\\utils\\validation.py:724: DataConversionWarning: A column-vector y was passed when a 1d array was expected. Please change the shape of y to (n_samples, ), for example using ravel().\n",
      "  y = column_or_1d(y, warn=True)\n"
     ]
    }
   ],
   "source": [
    "AdaBoostReg= AdaBoostRegressor(n_estimators=20)\n",
    "AdaBoostReg.fit(x_train,y_train)\n",
    "y_pred= AdaBoostReg.predict(x_test)"
   ]
  },
  {
   "cell_type": "code",
   "execution_count": 90,
   "metadata": {},
   "outputs": [
    {
     "name": "stdout",
     "output_type": "stream",
     "text": [
      "RMSE= 1.071882326011029\n",
      "Regressor Score = 0.8140526022782395\n"
     ]
    }
   ],
   "source": [
    "rmse= np.sqrt(mean_squared_error(y_test,y_pred))\n",
    "print('RMSE=',rmse)\n",
    "Ada_r2= r2_score(y_test,y_pred)\n",
    "print(\"Regressor Score =\",Ada_r2)"
   ]
  },
  {
   "cell_type": "markdown",
   "metadata": {},
   "source": [
    "## Bagging Regressor"
   ]
  },
  {
   "cell_type": "code",
   "execution_count": 91,
   "metadata": {},
   "outputs": [
    {
     "name": "stderr",
     "output_type": "stream",
     "text": [
      "C:\\Users\\Arpitha Ananth\\Anaconda3\\lib\\site-packages\\sklearn\\ensemble\\bagging.py:398: DataConversionWarning: A column-vector y was passed when a 1d array was expected. Please change the shape of y to (n_samples, ), for example using ravel().\n",
      "  return column_or_1d(y, warn=True)\n"
     ]
    }
   ],
   "source": [
    "BagReg= BaggingRegressor()\n",
    "BagReg.fit(x_train,y_train)\n",
    "y_pred=BagReg.predict(x_test)"
   ]
  },
  {
   "cell_type": "code",
   "execution_count": 92,
   "metadata": {},
   "outputs": [
    {
     "name": "stdout",
     "output_type": "stream",
     "text": [
      "RMSE= 0.5820504801242337\n",
      "Regressor Score = 0.9451701334931936\n"
     ]
    }
   ],
   "source": [
    "rmse= np.sqrt(mean_squared_error(y_test,y_pred))\n",
    "print('RMSE=',rmse)\n",
    "Bag_r2= r2_score(y_test,y_pred)\n",
    "print(\"Regressor Score =\",Bag_r2)"
   ]
  },
  {
   "cell_type": "markdown",
   "metadata": {},
   "source": [
    "## Bayesian Ridge"
   ]
  },
  {
   "cell_type": "code",
   "execution_count": 93,
   "metadata": {},
   "outputs": [
    {
     "name": "stderr",
     "output_type": "stream",
     "text": [
      "C:\\Users\\Arpitha Ananth\\Anaconda3\\lib\\site-packages\\sklearn\\utils\\validation.py:724: DataConversionWarning: A column-vector y was passed when a 1d array was expected. Please change the shape of y to (n_samples, ), for example using ravel().\n",
      "  y = column_or_1d(y, warn=True)\n"
     ]
    }
   ],
   "source": [
    "BayRidge= BayesianRidge()\n",
    "BayRidge.fit(x_train,y_train)\n",
    "y_pred=BayRidge.predict(x_test)"
   ]
  },
  {
   "cell_type": "code",
   "execution_count": 94,
   "metadata": {},
   "outputs": [
    {
     "name": "stdout",
     "output_type": "stream",
     "text": [
      "RMSE= 1.2828961813707573\n",
      "Regressor Score = 0.7336339259319453\n"
     ]
    }
   ],
   "source": [
    "rmse= np.sqrt(mean_squared_error(y_test,y_pred))\n",
    "print('RMSE=',rmse)\n",
    "Bay_r2= r2_score(y_test,y_pred)\n",
    "print(\"Regressor Score =\",Bay_r2)"
   ]
  },
  {
   "cell_type": "markdown",
   "metadata": {},
   "source": [
    "## Huber Regressor"
   ]
  },
  {
   "cell_type": "code",
   "execution_count": 95,
   "metadata": {},
   "outputs": [
    {
     "name": "stderr",
     "output_type": "stream",
     "text": [
      "C:\\Users\\Arpitha Ananth\\Anaconda3\\lib\\site-packages\\sklearn\\utils\\validation.py:724: DataConversionWarning: A column-vector y was passed when a 1d array was expected. Please change the shape of y to (n_samples, ), for example using ravel().\n",
      "  y = column_or_1d(y, warn=True)\n"
     ]
    }
   ],
   "source": [
    "hubReg= HuberRegressor()\n",
    "hubReg.fit(x_train,y_train)\n",
    "y_pred= hubReg.predict(x_test)"
   ]
  },
  {
   "cell_type": "code",
   "execution_count": 96,
   "metadata": {},
   "outputs": [
    {
     "name": "stdout",
     "output_type": "stream",
     "text": [
      "RMSE= 1.2972525089114622\n",
      "Regressor Score = 0.7276389978483093\n"
     ]
    }
   ],
   "source": [
    "rmse= np.sqrt(mean_squared_error(y_test,y_pred))\n",
    "print('RMSE=',rmse)\n",
    "Hub_r2= r2_score(y_test,y_pred)\n",
    "print(\"Regressor Score =\",Hub_r2)"
   ]
  },
  {
   "cell_type": "markdown",
   "metadata": {},
   "source": [
    "## Model Comparison"
   ]
  },
  {
   "cell_type": "code",
   "execution_count": 97,
   "metadata": {},
   "outputs": [
    {
     "data": {
      "text/html": [
       "<div>\n",
       "<style scoped>\n",
       "    .dataframe tbody tr th:only-of-type {\n",
       "        vertical-align: middle;\n",
       "    }\n",
       "\n",
       "    .dataframe tbody tr th {\n",
       "        vertical-align: top;\n",
       "    }\n",
       "\n",
       "    .dataframe thead th {\n",
       "        text-align: right;\n",
       "    }\n",
       "</style>\n",
       "<table border=\"1\" class=\"dataframe\">\n",
       "  <thead>\n",
       "    <tr style=\"text-align: right;\">\n",
       "      <th></th>\n",
       "      <th>Regressor Score</th>\n",
       "    </tr>\n",
       "  </thead>\n",
       "  <tbody>\n",
       "    <tr>\n",
       "      <th>Linear</th>\n",
       "      <td>0.733635</td>\n",
       "    </tr>\n",
       "    <tr>\n",
       "      <th>Ridge</th>\n",
       "      <td>0.733259</td>\n",
       "    </tr>\n",
       "    <tr>\n",
       "      <th>Lasso</th>\n",
       "      <td>-0.000018</td>\n",
       "    </tr>\n",
       "    <tr>\n",
       "      <th>RandomForest</th>\n",
       "      <td>0.945748</td>\n",
       "    </tr>\n",
       "    <tr>\n",
       "      <th>AdaBoost</th>\n",
       "      <td>0.814053</td>\n",
       "    </tr>\n",
       "    <tr>\n",
       "      <th>Bagging</th>\n",
       "      <td>0.945170</td>\n",
       "    </tr>\n",
       "    <tr>\n",
       "      <th>Bayesian</th>\n",
       "      <td>0.733634</td>\n",
       "    </tr>\n",
       "    <tr>\n",
       "      <th>Huber</th>\n",
       "      <td>0.727639</td>\n",
       "    </tr>\n",
       "  </tbody>\n",
       "</table>\n",
       "</div>"
      ],
      "text/plain": [
       "              Regressor Score\n",
       "Linear               0.733635\n",
       "Ridge                0.733259\n",
       "Lasso               -0.000018\n",
       "RandomForest         0.945748\n",
       "AdaBoost             0.814053\n",
       "Bagging              0.945170\n",
       "Bayesian             0.733634\n",
       "Huber                0.727639"
      ]
     },
     "execution_count": 97,
     "metadata": {},
     "output_type": "execute_result"
    }
   ],
   "source": [
    "Model_comparison=pd.DataFrame([lin_r2,ridge_r2,lasso_r2,RF_r2,Ada_r2,Bag_r2,Bay_r2,Hub_r2],['Linear','Ridge','Lasso','RandomForest','AdaBoost','Bagging','Bayesian','Huber'])\n",
    "Model_comparison.columns=['Regressor Score']\n",
    "Model_comparison"
   ]
  },
  {
   "cell_type": "code",
   "execution_count": 98,
   "metadata": {},
   "outputs": [
    {
     "data": {
      "text/plain": [
       "Text(0.5, 1.0, 'Model Comparison')"
      ]
     },
     "execution_count": 98,
     "metadata": {},
     "output_type": "execute_result"
    },
    {
     "data": {
      "image/png": "[encoded data removed]",
      "text/plain": [
       "<Figure size 720x432 with 1 Axes>"
      ]
     },
     "metadata": {
      "needs_background": "light"
     },
     "output_type": "display_data"
    }
   ],
   "source": [
    "plt.figure(figsize=(10,6))\n",
    "plt.bar(Model_comparison.index,Model_comparison['Regressor Score'])\n",
    "plt.xlabel('Regressors')\n",
    "plt.ylabel('Score')\n",
    "plt.title('Model Comparison')"
   ]
  },
  {
   "cell_type": "markdown",
   "metadata": {},
   "source": [
    "### Test Data Analysis & Prediction"
   ]
  },
  {
   "cell_type": "code",
   "execution_count": 99,
   "metadata": {},
   "outputs": [
    {
     "data": {
      "text/html": [
       "<div>\n",
       "<style scoped>\n",
       "    .dataframe tbody tr th:only-of-type {\n",
       "        vertical-align: middle;\n",
       "    }\n",
       "\n",
       "    .dataframe tbody tr th {\n",
       "        vertical-align: top;\n",
       "    }\n",
       "\n",
       "    .dataframe thead th {\n",
       "        text-align: right;\n",
       "    }\n",
       "</style>\n",
       "<table border=\"1\" class=\"dataframe\">\n",
       "  <thead>\n",
       "    <tr style=\"text-align: right;\">\n",
       "      <th></th>\n",
       "      <th>Unique_ID</th>\n",
       "      <th>Name</th>\n",
       "      <th>Genre</th>\n",
       "      <th>Country</th>\n",
       "      <th>Song_Name</th>\n",
       "      <th>Timestamp</th>\n",
       "      <th>Comments</th>\n",
       "      <th>Likes</th>\n",
       "      <th>Popularity</th>\n",
       "      <th>Followers</th>\n",
       "    </tr>\n",
       "  </thead>\n",
       "  <tbody>\n",
       "    <tr>\n",
       "      <th>0</th>\n",
       "      <td>562546</td>\n",
       "      <td>L2Share♫79</td>\n",
       "      <td>all-music</td>\n",
       "      <td>AU</td>\n",
       "      <td>엔플라잉 N.Flying - Rooftop (옥탑방)</td>\n",
       "      <td>2019-01-02 09:49:19.000000</td>\n",
       "      <td>26</td>\n",
       "      <td>5,428</td>\n",
       "      <td>118</td>\n",
       "      <td>2568</td>\n",
       "    </tr>\n",
       "    <tr>\n",
       "      <th>1</th>\n",
       "      <td>907584</td>\n",
       "      <td>Morgan Page</td>\n",
       "      <td>danceedm</td>\n",
       "      <td>AU</td>\n",
       "      <td>Morgan Page - In The Air - Episode 246</td>\n",
       "      <td>2015-03-09 17:30:10.000000</td>\n",
       "      <td>18</td>\n",
       "      <td>738</td>\n",
       "      <td>195</td>\n",
       "      <td>155645</td>\n",
       "    </tr>\n",
       "    <tr>\n",
       "      <th>2</th>\n",
       "      <td>213013</td>\n",
       "      <td>Dirty Workz</td>\n",
       "      <td>danceedm</td>\n",
       "      <td>AU</td>\n",
       "      <td>Outlander - Devotion (Official HQ Preview)</td>\n",
       "      <td>2013-09-18 16:09:03.000000</td>\n",
       "      <td>18</td>\n",
       "      <td>386</td>\n",
       "      <td>96</td>\n",
       "      <td>29446</td>\n",
       "    </tr>\n",
       "    <tr>\n",
       "      <th>3</th>\n",
       "      <td>340312</td>\n",
       "      <td>Gucci Mane</td>\n",
       "      <td>all-music</td>\n",
       "      <td>AU</td>\n",
       "      <td>Freaky Gurl</td>\n",
       "      <td>2007-08-14 00:00:00.000000</td>\n",
       "      <td>1</td>\n",
       "      <td>388</td>\n",
       "      <td>19</td>\n",
       "      <td>799410</td>\n",
       "    </tr>\n",
       "    <tr>\n",
       "      <th>4</th>\n",
       "      <td>41854</td>\n",
       "      <td>Angga Kecap</td>\n",
       "      <td>rock</td>\n",
       "      <td>AU</td>\n",
       "      <td>Radical Nusantara - Teman</td>\n",
       "      <td>2018-08-10 16:28:54.000000</td>\n",
       "      <td>0</td>\n",
       "      <td>79</td>\n",
       "      <td>1</td>\n",
       "      <td>2</td>\n",
       "    </tr>\n",
       "  </tbody>\n",
       "</table>\n",
       "</div>"
      ],
      "text/plain": [
       "   Unique_ID         Name      Genre Country  \\\n",
       "0     562546   L2Share♫79  all-music      AU   \n",
       "1     907584  Morgan Page   danceedm      AU   \n",
       "2     213013  Dirty Workz   danceedm      AU   \n",
       "3     340312   Gucci Mane  all-music      AU   \n",
       "4      41854  Angga Kecap       rock      AU   \n",
       "\n",
       "                                    Song_Name                   Timestamp  \\\n",
       "0               엔플라잉 N.Flying - Rooftop (옥탑방)  2019-01-02 09:49:19.000000   \n",
       "1      Morgan Page - In The Air - Episode 246  2015-03-09 17:30:10.000000   \n",
       "2  Outlander - Devotion (Official HQ Preview)  2013-09-18 16:09:03.000000   \n",
       "3                                 Freaky Gurl  2007-08-14 00:00:00.000000   \n",
       "4                   Radical Nusantara - Teman  2018-08-10 16:28:54.000000   \n",
       "\n",
       "   Comments  Likes Popularity  Followers  \n",
       "0        26  5,428        118       2568  \n",
       "1        18    738        195     155645  \n",
       "2        18    386         96      29446  \n",
       "3         1    388         19     799410  \n",
       "4         0     79          1          2  "
      ]
     },
     "execution_count": 99,
     "metadata": {},
     "output_type": "execute_result"
    }
   ],
   "source": [
    "test= pd.read_csv(\"Data_Test.csv\")\n",
    "test.head()"
   ]
  },
  {
   "cell_type": "code",
   "execution_count": 100,
   "metadata": {},
   "outputs": [],
   "source": [
    "test['Timestamp']= pd.to_datetime(test['Timestamp'],format='%Y-%m-%d')\n",
    "\n",
    "test['Year']= test['Timestamp'].dt.year\n",
    "\n",
    "test['Month']= test['Timestamp'].dt.month"
   ]
  },
  {
   "cell_type": "code",
   "execution_count": 101,
   "metadata": {},
   "outputs": [],
   "source": [
    "test.drop(['Unique_ID','Name','Timestamp','Country'],inplace=True,axis=1)"
   ]
  },
  {
   "cell_type": "code",
   "execution_count": 102,
   "metadata": {},
   "outputs": [],
   "source": [
    "test['Likes']= test['Likes'].str.replace(',','')\n",
    "test['Likes']= test['Likes'].str.replace('.','')\n",
    "test['Likes']= test['Likes'].str.replace('K','')\n",
    "test['Likes']= test['Likes'].str.replace('M','')\n",
    "\n",
    "test['Likes']= test['Likes'].astype('int')\n",
    "\n",
    "test['Popularity']= test['Popularity'].str.replace(',','')\n",
    "test['Popularity']= test['Popularity'].str.replace('.','')\n",
    "test['Popularity']= test['Popularity'].str.replace('K','')\n",
    "\n",
    "test['Popularity']= test['Popularity'].astype('int')"
   ]
  },
  {
   "cell_type": "code",
   "execution_count": 103,
   "metadata": {},
   "outputs": [],
   "source": [
    "test['Comments1']= np.log(test['Comments']+1)\n",
    "test['Popularity1']=np.log(test['Popularity']+1)\n",
    "test['Followers1']=np.log(test['Followers']+1)\n",
    "test['Likes1']=(test['Likes'])**(1/3)"
   ]
  },
  {
   "cell_type": "code",
   "execution_count": 104,
   "metadata": {},
   "outputs": [
    {
     "data": {
      "text/html": [
       "<div>\n",
       "<style scoped>\n",
       "    .dataframe tbody tr th:only-of-type {\n",
       "        vertical-align: middle;\n",
       "    }\n",
       "\n",
       "    .dataframe tbody tr th {\n",
       "        vertical-align: top;\n",
       "    }\n",
       "\n",
       "    .dataframe thead th {\n",
       "        text-align: right;\n",
       "    }\n",
       "</style>\n",
       "<table border=\"1\" class=\"dataframe\">\n",
       "  <thead>\n",
       "    <tr style=\"text-align: right;\">\n",
       "      <th></th>\n",
       "      <th>Genre</th>\n",
       "      <th>Song_Name</th>\n",
       "      <th>Comments</th>\n",
       "      <th>Likes</th>\n",
       "      <th>Popularity</th>\n",
       "      <th>Followers</th>\n",
       "      <th>Year</th>\n",
       "      <th>Month</th>\n",
       "      <th>Comments1</th>\n",
       "      <th>Popularity1</th>\n",
       "      <th>Followers1</th>\n",
       "      <th>Likes1</th>\n",
       "    </tr>\n",
       "  </thead>\n",
       "  <tbody>\n",
       "    <tr>\n",
       "      <th>0</th>\n",
       "      <td>0</td>\n",
       "      <td>엔플라잉 N.Flying - Rooftop (옥탑방)</td>\n",
       "      <td>26</td>\n",
       "      <td>5428</td>\n",
       "      <td>118</td>\n",
       "      <td>2568</td>\n",
       "      <td>2019</td>\n",
       "      <td>1</td>\n",
       "      <td>3.295837</td>\n",
       "      <td>4.779123</td>\n",
       "      <td>7.851272</td>\n",
       "      <td>17.574377</td>\n",
       "    </tr>\n",
       "    <tr>\n",
       "      <th>1</th>\n",
       "      <td>5</td>\n",
       "      <td>Morgan Page - In The Air - Episode 246</td>\n",
       "      <td>18</td>\n",
       "      <td>738</td>\n",
       "      <td>195</td>\n",
       "      <td>155645</td>\n",
       "      <td>2015</td>\n",
       "      <td>3</td>\n",
       "      <td>2.944439</td>\n",
       "      <td>5.278115</td>\n",
       "      <td>11.955339</td>\n",
       "      <td>9.036886</td>\n",
       "    </tr>\n",
       "    <tr>\n",
       "      <th>2</th>\n",
       "      <td>5</td>\n",
       "      <td>Outlander - Devotion (Official HQ Preview)</td>\n",
       "      <td>18</td>\n",
       "      <td>386</td>\n",
       "      <td>96</td>\n",
       "      <td>29446</td>\n",
       "      <td>2013</td>\n",
       "      <td>9</td>\n",
       "      <td>2.944439</td>\n",
       "      <td>4.574711</td>\n",
       "      <td>10.290347</td>\n",
       "      <td>7.281079</td>\n",
       "    </tr>\n",
       "    <tr>\n",
       "      <th>3</th>\n",
       "      <td>0</td>\n",
       "      <td>Freaky Gurl</td>\n",
       "      <td>1</td>\n",
       "      <td>388</td>\n",
       "      <td>19</td>\n",
       "      <td>799410</td>\n",
       "      <td>2007</td>\n",
       "      <td>8</td>\n",
       "      <td>0.693147</td>\n",
       "      <td>2.995732</td>\n",
       "      <td>13.591630</td>\n",
       "      <td>7.293633</td>\n",
       "    </tr>\n",
       "    <tr>\n",
       "      <th>4</th>\n",
       "      <td>19</td>\n",
       "      <td>Radical Nusantara - Teman</td>\n",
       "      <td>0</td>\n",
       "      <td>79</td>\n",
       "      <td>1</td>\n",
       "      <td>2</td>\n",
       "      <td>2018</td>\n",
       "      <td>8</td>\n",
       "      <td>0.000000</td>\n",
       "      <td>0.693147</td>\n",
       "      <td>1.098612</td>\n",
       "      <td>4.290840</td>\n",
       "    </tr>\n",
       "  </tbody>\n",
       "</table>\n",
       "</div>"
      ],
      "text/plain": [
       "   Genre                                   Song_Name  Comments  Likes  \\\n",
       "0      0               엔플라잉 N.Flying - Rooftop (옥탑방)        26   5428   \n",
       "1      5      Morgan Page - In The Air - Episode 246        18    738   \n",
       "2      5  Outlander - Devotion (Official HQ Preview)        18    386   \n",
       "3      0                                 Freaky Gurl         1    388   \n",
       "4     19                   Radical Nusantara - Teman         0     79   \n",
       "\n",
       "   Popularity  Followers  Year  Month  Comments1  Popularity1  Followers1  \\\n",
       "0         118       2568  2019      1   3.295837     4.779123    7.851272   \n",
       "1         195     155645  2015      3   2.944439     5.278115   11.955339   \n",
       "2          96      29446  2013      9   2.944439     4.574711   10.290347   \n",
       "3          19     799410  2007      8   0.693147     2.995732   13.591630   \n",
       "4           1          2  2018      8   0.000000     0.693147    1.098612   \n",
       "\n",
       "      Likes1  \n",
       "0  17.574377  \n",
       "1   9.036886  \n",
       "2   7.281079  \n",
       "3   7.293633  \n",
       "4   4.290840  "
      ]
     },
     "execution_count": 104,
     "metadata": {},
     "output_type": "execute_result"
    }
   ],
   "source": [
    "from sklearn.preprocessing import LabelEncoder\n",
    "x1=LabelEncoder() \n",
    "test['Genre']= x1.fit_transform(test['Genre']) \n",
    "test.head()"
   ]
  },
  {
   "cell_type": "code",
   "execution_count": 105,
   "metadata": {},
   "outputs": [],
   "source": [
    "test.drop(['Song_Name', 'Comments', 'Likes', 'Popularity', 'Followers'],inplace=True,axis=1)"
   ]
  },
  {
   "cell_type": "code",
   "execution_count": 106,
   "metadata": {},
   "outputs": [
    {
     "data": {
      "text/plain": [
       "Index(['Genre', 'Year', 'Month', 'Comments1', 'Popularity1', 'Followers1',\n",
       "       'Likes1'],\n",
       "      dtype='object')"
      ]
     },
     "execution_count": 106,
     "metadata": {},
     "output_type": "execute_result"
    }
   ],
   "source": [
    "test.columns"
   ]
  },
  {
   "cell_type": "code",
   "execution_count": 107,
   "metadata": {},
   "outputs": [
    {
     "data": {
      "text/html": [
       "<div>\n",
       "<style scoped>\n",
       "    .dataframe tbody tr th:only-of-type {\n",
       "        vertical-align: middle;\n",
       "    }\n",
       "\n",
       "    .dataframe tbody tr th {\n",
       "        vertical-align: top;\n",
       "    }\n",
       "\n",
       "    .dataframe thead th {\n",
       "        text-align: right;\n",
       "    }\n",
       "</style>\n",
       "<table border=\"1\" class=\"dataframe\">\n",
       "  <thead>\n",
       "    <tr style=\"text-align: right;\">\n",
       "      <th></th>\n",
       "      <th>Genre</th>\n",
       "      <th>Year</th>\n",
       "      <th>Month</th>\n",
       "      <th>Comments1</th>\n",
       "      <th>Popularity1</th>\n",
       "      <th>Followers1</th>\n",
       "      <th>Likes1</th>\n",
       "    </tr>\n",
       "  </thead>\n",
       "  <tbody>\n",
       "    <tr>\n",
       "      <th>0</th>\n",
       "      <td>-1.472236</td>\n",
       "      <td>1.094429</td>\n",
       "      <td>-1.520498</td>\n",
       "      <td>0.328799</td>\n",
       "      <td>0.229371</td>\n",
       "      <td>-1.343302</td>\n",
       "      <td>1.901883</td>\n",
       "    </tr>\n",
       "    <tr>\n",
       "      <th>1</th>\n",
       "      <td>-0.629021</td>\n",
       "      <td>-0.325596</td>\n",
       "      <td>-0.967920</td>\n",
       "      <td>0.152575</td>\n",
       "      <td>0.446900</td>\n",
       "      <td>0.343413</td>\n",
       "      <td>0.150781</td>\n",
       "    </tr>\n",
       "    <tr>\n",
       "      <th>2</th>\n",
       "      <td>-0.629021</td>\n",
       "      <td>-1.035608</td>\n",
       "      <td>0.689814</td>\n",
       "      <td>0.152575</td>\n",
       "      <td>0.140260</td>\n",
       "      <td>-0.340876</td>\n",
       "      <td>-0.209348</td>\n",
       "    </tr>\n",
       "    <tr>\n",
       "      <th>3</th>\n",
       "      <td>-1.472236</td>\n",
       "      <td>-3.165644</td>\n",
       "      <td>0.413525</td>\n",
       "      <td>-0.976435</td>\n",
       "      <td>-0.548075</td>\n",
       "      <td>1.015906</td>\n",
       "      <td>-0.206774</td>\n",
       "    </tr>\n",
       "    <tr>\n",
       "      <th>4</th>\n",
       "      <td>1.731980</td>\n",
       "      <td>0.739423</td>\n",
       "      <td>0.413525</td>\n",
       "      <td>-1.324045</td>\n",
       "      <td>-1.551856</td>\n",
       "      <td>-4.118552</td>\n",
       "      <td>-0.822669</td>\n",
       "    </tr>\n",
       "  </tbody>\n",
       "</table>\n",
       "</div>"
      ],
      "text/plain": [
       "      Genre      Year     Month  Comments1  Popularity1  Followers1    Likes1\n",
       "0 -1.472236  1.094429 -1.520498   0.328799     0.229371   -1.343302  1.901883\n",
       "1 -0.629021 -0.325596 -0.967920   0.152575     0.446900    0.343413  0.150781\n",
       "2 -0.629021 -1.035608  0.689814   0.152575     0.140260   -0.340876 -0.209348\n",
       "3 -1.472236 -3.165644  0.413525  -0.976435    -0.548075    1.015906 -0.206774\n",
       "4  1.731980  0.739423  0.413525  -1.324045    -1.551856   -4.118552 -0.822669"
      ]
     },
     "execution_count": 107,
     "metadata": {},
     "output_type": "execute_result"
    }
   ],
   "source": [
    "sc=StandardScaler()  \n",
    "sc_data1=sc.fit_transform(test)\n",
    "sc_data1=pd.DataFrame(sc_data1)\n",
    "sc_data1.columns=test.columns\n",
    "sc_data1.head()"
   ]
  },
  {
   "cell_type": "code",
   "execution_count": 108,
   "metadata": {},
   "outputs": [
    {
     "data": {
      "text/plain": [
       "<matplotlib.axes._subplots.AxesSubplot at 0x2a31dcdb0f0>"
      ]
     },
     "execution_count": 108,
     "metadata": {},
     "output_type": "execute_result"
    },
    {
     "data": {
      "image/png": "[encoded data removed]",
      "text/plain": [
       "<Figure size 1008x432 with 1 Axes>"
      ]
     },
     "metadata": {
      "needs_background": "light"
     },
     "output_type": "display_data"
    }
   ],
   "source": [
    "plt.figure(figsize=(14,6))\n",
    "plt.xlim(-5,5)\n",
    "plt.ylim(0,1)\n",
    "sns.kdeplot(sc_data1['Genre'])\n",
    "sns.kdeplot(sc_data1['Comments1'])\n",
    "sns.kdeplot(sc_data1['Popularity1'])\n",
    "sns.kdeplot(sc_data1['Followers1'])\n",
    "sns.kdeplot(sc_data1['Likes1'])\n",
    "sns.kdeplot(sc_data1['Year'])\n",
    "sns.kdeplot(sc_data1['Month'])"
   ]
  },
  {
   "cell_type": "markdown",
   "metadata": {},
   "source": [
    "### Prediction using Random Forest Regressor"
   ]
  },
  {
   "cell_type": "code",
   "execution_count": 109,
   "metadata": {},
   "outputs": [],
   "source": [
    "pred= rfReg.predict(sc_data1)"
   ]
  },
  {
   "cell_type": "code",
   "execution_count": 110,
   "metadata": {},
   "outputs": [
    {
     "data": {
      "text/plain": [
       "array([13.47842598, 10.24093848, 10.16641927, ...,  9.02517859,\n",
       "       11.09480282, 10.02515698])"
      ]
     },
     "execution_count": 110,
     "metadata": {},
     "output_type": "execute_result"
    }
   ],
   "source": [
    "pred"
   ]
  },
  {
   "cell_type": "code",
   "execution_count": 111,
   "metadata": {},
   "outputs": [],
   "source": [
    "test= pd.read_csv(\"Data_Test.csv\")"
   ]
  },
  {
   "cell_type": "code",
   "execution_count": 112,
   "metadata": {},
   "outputs": [
    {
     "data": {
      "text/html": [
       "<div>\n",
       "<style scoped>\n",
       "    .dataframe tbody tr th:only-of-type {\n",
       "        vertical-align: middle;\n",
       "    }\n",
       "\n",
       "    .dataframe tbody tr th {\n",
       "        vertical-align: top;\n",
       "    }\n",
       "\n",
       "    .dataframe thead th {\n",
       "        text-align: right;\n",
       "    }\n",
       "</style>\n",
       "<table border=\"1\" class=\"dataframe\">\n",
       "  <thead>\n",
       "    <tr style=\"text-align: right;\">\n",
       "      <th></th>\n",
       "      <th>0</th>\n",
       "    </tr>\n",
       "  </thead>\n",
       "  <tbody>\n",
       "    <tr>\n",
       "      <th>0</th>\n",
       "      <td>13.478426</td>\n",
       "    </tr>\n",
       "    <tr>\n",
       "      <th>1</th>\n",
       "      <td>10.240938</td>\n",
       "    </tr>\n",
       "    <tr>\n",
       "      <th>2</th>\n",
       "      <td>10.166419</td>\n",
       "    </tr>\n",
       "    <tr>\n",
       "      <th>3</th>\n",
       "      <td>9.027421</td>\n",
       "    </tr>\n",
       "    <tr>\n",
       "      <th>4</th>\n",
       "      <td>14.325979</td>\n",
       "    </tr>\n",
       "    <tr>\n",
       "      <th>...</th>\n",
       "      <td>...</td>\n",
       "    </tr>\n",
       "    <tr>\n",
       "      <th>19610</th>\n",
       "      <td>10.154024</td>\n",
       "    </tr>\n",
       "    <tr>\n",
       "      <th>19611</th>\n",
       "      <td>9.519075</td>\n",
       "    </tr>\n",
       "    <tr>\n",
       "      <th>19612</th>\n",
       "      <td>9.025179</td>\n",
       "    </tr>\n",
       "    <tr>\n",
       "      <th>19613</th>\n",
       "      <td>11.094803</td>\n",
       "    </tr>\n",
       "    <tr>\n",
       "      <th>19614</th>\n",
       "      <td>10.025157</td>\n",
       "    </tr>\n",
       "  </tbody>\n",
       "</table>\n",
       "<p>19615 rows × 1 columns</p>\n",
       "</div>"
      ],
      "text/plain": [
       "               0\n",
       "0      13.478426\n",
       "1      10.240938\n",
       "2      10.166419\n",
       "3       9.027421\n",
       "4      14.325979\n",
       "...          ...\n",
       "19610  10.154024\n",
       "19611   9.519075\n",
       "19612   9.025179\n",
       "19613  11.094803\n",
       "19614  10.025157\n",
       "\n",
       "[19615 rows x 1 columns]"
      ]
     },
     "execution_count": 112,
     "metadata": {},
     "output_type": "execute_result"
    }
   ],
   "source": [
    "pred1=pd.DataFrame(pred)\n",
    "pred1"
   ]
  },
  {
   "cell_type": "code",
   "execution_count": 113,
   "metadata": {},
   "outputs": [],
   "source": [
    "Submission1=pd.concat((test['Unique_ID'],pred1),axis=1)\n",
    "Submission1.columns=['Unique_ID','Views']\n",
    "Submission1.set_index(['Unique_ID'],inplace=True)"
   ]
  },
  {
   "cell_type": "code",
   "execution_count": 114,
   "metadata": {},
   "outputs": [
    {
     "data": {
      "text/html": [
       "<div>\n",
       "<style scoped>\n",
       "    .dataframe tbody tr th:only-of-type {\n",
       "        vertical-align: middle;\n",
       "    }\n",
       "\n",
       "    .dataframe tbody tr th {\n",
       "        vertical-align: top;\n",
       "    }\n",
       "\n",
       "    .dataframe thead th {\n",
       "        text-align: right;\n",
       "    }\n",
       "</style>\n",
       "<table border=\"1\" class=\"dataframe\">\n",
       "  <thead>\n",
       "    <tr style=\"text-align: right;\">\n",
       "      <th></th>\n",
       "      <th>Views</th>\n",
       "    </tr>\n",
       "    <tr>\n",
       "      <th>Unique_ID</th>\n",
       "      <th></th>\n",
       "    </tr>\n",
       "  </thead>\n",
       "  <tbody>\n",
       "    <tr>\n",
       "      <th>562546</th>\n",
       "      <td>13.478426</td>\n",
       "    </tr>\n",
       "    <tr>\n",
       "      <th>907584</th>\n",
       "      <td>10.240938</td>\n",
       "    </tr>\n",
       "    <tr>\n",
       "      <th>213013</th>\n",
       "      <td>10.166419</td>\n",
       "    </tr>\n",
       "    <tr>\n",
       "      <th>340312</th>\n",
       "      <td>9.027421</td>\n",
       "    </tr>\n",
       "    <tr>\n",
       "      <th>41854</th>\n",
       "      <td>14.325979</td>\n",
       "    </tr>\n",
       "  </tbody>\n",
       "</table>\n",
       "</div>"
      ],
      "text/plain": [
       "               Views\n",
       "Unique_ID           \n",
       "562546     13.478426\n",
       "907584     10.240938\n",
       "213013     10.166419\n",
       "340312      9.027421\n",
       "41854      14.325979"
      ]
     },
     "execution_count": 114,
     "metadata": {},
     "output_type": "execute_result"
    }
   ],
   "source": [
    "Submission1.head()"
   ]
  },
  {
   "cell_type": "code",
   "execution_count": 115,
   "metadata": {},
   "outputs": [],
   "source": [
    "Submission1.to_csv(\"Submission6.csv\")"
   ]
  },
  {
   "cell_type": "code",
   "execution_count": 116,
   "metadata": {},
   "outputs": [
    {
     "data": {
      "image/png": "[encoded data removed]",
      "text/plain": [
       "<Figure size 432x288 with 1 Axes>"
      ]
     },
     "metadata": {
      "needs_background": "light"
     },
     "output_type": "display_data"
    }
   ],
   "source": [
    "# QQ Plot\n",
    "from numpy.random import seed\n",
    "from numpy.random import randn\n",
    "from statsmodels.graphics.gofplots import qqplot\n",
    "from matplotlib import pyplot\n",
    "# seed the random number generator\n",
    "seed(1)\n",
    "# generate univariate observations\n",
    "data = 5 * randn(100) + 50\n",
    "# q-q plot\n",
    "qqplot(pred, line='s')\n",
    "pyplot.show()"
   ]
  }
 ],
 "metadata": {
  "kernelspec": {
   "display_name": "Python 3",
   "language": "python",
   "name": "python3"
  },
  "language_info": {
   "codemirror_mode": {
    "name": "ipython",
    "version": 3
   },
   "file_extension": ".py",
   "mimetype": "text/x-python",
   "name": "python",
   "nbconvert_exporter": "python",
   "pygments_lexer": "ipython3",
   "version": "3.7.3"
  }
 },
 "nbformat": 4,
 "nbformat_minor": 2
}
